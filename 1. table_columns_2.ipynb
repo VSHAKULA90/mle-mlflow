{
 "cells": [
  {
   "cell_type": "code",
   "execution_count": 2,
   "id": "f34b0a2f",
   "metadata": {},
   "outputs": [
    {
     "name": "stdout",
     "output_type": "stream",
     "text": [
      "Размер нашей таблицы: 7043 строк; 22 столбцов\n"
     ]
    }
   ],
   "source": [
    "import psycopg2 as psycopg\n",
    "import pandas as pd\n",
    "from dotenv import load_dotenv\n",
    "import os\n",
    "\n",
    "connection = {\"sslmode\": \"require\", \"target_session_attrs\": \"read-write\"}\n",
    "load_dotenv(dotenv_path=\".env\")\n",
    "postgres_credentials = {\n",
    "    \"host\": os.getenv(\"DB_DESTINATION_HOST\", \"\"),\n",
    "    \"port\": os.getenv(\"DB_DESTINATION_PORT\", \"\"),\n",
    "    \"dbname\": os.getenv(\"DB_DESTINATION_NAME\", \"\"),\n",
    "    \"user\": os.getenv(\"DB_DESTINATION_USER\", \"\"),\n",
    "    \"password\": os.getenv(\"DB_DESTINATION_PASSWORD\", \"\"),\n",
    "}\n",
    "assert all([var_value != \"\" for var_value in list(postgres_credentials.values())])\n",
    "\n",
    "connection.update(postgres_credentials)\n",
    "\n",
    "# определяем название таблицы, в которой хранятся наши данные\n",
    "TABLE_NAME = \"users_churn\"\n",
    "\n",
    "\n",
    "# эта конструкция создаёт контекстное управление для соединения с базой данных \n",
    "# оператор with гарантирует, что соединение будет корректно закрыто после выполнения всех операций с базой данных\n",
    "# причём закрыто оно будет даже в случае ошибки при работе с базой данных\n",
    "# это нужно, чтобы не допустить так называемую \"утечку памяти\"\n",
    "with psycopg.connect(**connection) as conn:\n",
    "\n",
    "# создаём объект курсора для выполнения запросов к базе данных \n",
    "# с помощью метода execute() выполняется SQL-запрос для выборки данных из таблицы TABLE_NAME\n",
    "    with conn.cursor() as cur:\n",
    "        cur.execute(f\"SELECT * FROM {TABLE_NAME}\")\n",
    "\t\t\t\t\n",
    "\t\t\t\t# извлекаем все строки, полученные в результате выполнения запроса\n",
    "        data = cur.fetchall()\n",
    "\n",
    "\t\t\t\t# получаем список имён столбцов из объекта курсора\n",
    "        columns = [col[0] for col in cur.description]\n",
    "\n",
    "# создаём объект DataFrame из полученных данных и имён столбцов \n",
    "# это позволяет удобно работать с данными в Python с использованием библиотеки Pandas\n",
    "df = pd.DataFrame(data, columns=columns)\n",
    "\n",
    "print(f\"Размер нашей таблицы: {df.shape[0]} строк; {df.shape[1]} столбцов\")"
   ]
  },
  {
   "cell_type": "code",
   "execution_count": 3,
   "id": "ee07aa25",
   "metadata": {},
   "outputs": [
    {
     "name": "stdout",
     "output_type": "stream",
     "text": [
      "<class 'pandas.core.frame.DataFrame'>\n",
      "RangeIndex: 7043 entries, 0 to 7042\n",
      "Data columns (total 22 columns):\n",
      " #   Column             Non-Null Count  Dtype         \n",
      "---  ------             --------------  -----         \n",
      " 0   id                 7043 non-null   int64         \n",
      " 1   customer_id        7043 non-null   object        \n",
      " 2   begin_date         7043 non-null   datetime64[ns]\n",
      " 3   end_date           1869 non-null   datetime64[ns]\n",
      " 4   type               7043 non-null   object        \n",
      " 5   paperless_billing  7043 non-null   object        \n",
      " 6   payment_method     7043 non-null   object        \n",
      " 7   monthly_charges    7043 non-null   float64       \n",
      " 8   total_charges      7032 non-null   float64       \n",
      " 9   internet_service   5517 non-null   object        \n",
      " 10  online_security    5517 non-null   object        \n",
      " 11  online_backup      5517 non-null   object        \n",
      " 12  device_protection  5517 non-null   object        \n",
      " 13  tech_support       5517 non-null   object        \n",
      " 14  streaming_tv       5517 non-null   object        \n",
      " 15  streaming_movies   5517 non-null   object        \n",
      " 16  gender             7043 non-null   object        \n",
      " 17  senior_citizen     7043 non-null   int64         \n",
      " 18  partner            7043 non-null   object        \n",
      " 19  dependents         7043 non-null   object        \n",
      " 20  multiple_lines     6361 non-null   object        \n",
      " 21  target             7043 non-null   int64         \n",
      "dtypes: datetime64[ns](2), float64(2), int64(3), object(15)\n",
      "memory usage: 1.2+ MB\n"
     ]
    }
   ],
   "source": [
    "df.info()"
   ]
  },
  {
   "cell_type": "code",
   "execution_count": 4,
   "id": "0fec3e64",
   "metadata": {},
   "outputs": [],
   "source": [
    "columns = [\n",
    "    \"customer_id\", \"begin_date\", \"end_date\", \"type\", \"paperless_billing\",\n",
    "    \"payment_method\", \"monthly_charges\", \"total_charges\", \"internet_service\",\n",
    "    \"online_security\", \"online_backup\", \"device_protection\", \"tech_support\",\n",
    "    \"streaming_tv\", \"streaming_movies\", \"gender\", \"senior_citizen\", \"partner\",\n",
    "    \"dependents\", \"multiple_lines\", \"target\"]\n",
    "\n",
    "with open(\"columns.txt\", \"w\", encoding=\"utf-8\") as fio:\n",
    "    fio.write(\",\".join(columns))"
   ]
  },
  {
   "cell_type": "code",
   "execution_count": 5,
   "id": "5ef71bd9",
   "metadata": {},
   "outputs": [],
   "source": [
    "columns = [\n",
    "    \"customer_id\", \"begin_date\", \"end_date\", \"type\", \"paperless_billing\",\n",
    "    \"payment_method\", \"monthly_charges\", \"total_charges\", \"internet_service\",\n",
    "    \"online_security\", \"online_backup\", \"device_protection\", \"tech_support\",\n",
    "    \"streaming_tv\", \"streaming_movies\", \"gender\", \"senior_citizen\", \"partner\",\n",
    "    \"dependents\", \"multiple_lines\", \"target\"]\n",
    "\n",
    "stats = {}\n",
    "\n",
    "for col in columns:\n",
    "\t# посчитайте уникальные значения для колонок, где немного уникальных значений (переменная counts_columns)\n",
    "    column_stat = df[col].value_counts()\n",
    "    column_stat = {f\"{col}_{key}\": value for key, value in column_stat.items()}\n",
    "    stats\n",
    "\n",
    "\n",
    "stats[\"data_length\"] = df.shape[0]\n",
    "stats[\"monthly_charges_min\"] = df[\"monthly_charges\"].min()\n",
    "stats[\"monthly_charges_max\"] = df[\"monthly_charges\"].max() # посчитайте максимальное значение в колонке\n",
    "stats[\"monthly_charges_mean\"] = df[\"monthly_charges\"].mean() # посчитайте среднее значение в колонке\n",
    "stats[\"monthly_charges_median\"] = df[\"monthly_charges\"].median() # посчитайте медианное значение в колонке\n",
    "stats[\"total_charges_min\"] = df[\"total_charges\"].min() # посчитайте минимальное значение в колонке\n",
    "stats[\"total_charges_max\"] = df[\"total_charges\"].max() # посчитайте максимальное значение в колонке\n",
    "stats[\"total_charges_mean\"] = df[\"total_charges\"].mean() # посчитайте среднее значение в колонке\n",
    "stats[\"total_charges_median\"] = df[\"total_charges\"].median() # посчитайте медианное значение в колонке\n",
    "stats[\"unique_customers_number\"] = df[\"customer_id\"].nunique() # посчитайте кол-во уникальных id\n",
    "stats[\"end_date_nan\"] = df[\"end_date\"].isna().sum() # посчитайте кол-во пустых строк в колонке"
   ]
  },
  {
   "cell_type": "code",
   "execution_count": 6,
   "id": "04b75254",
   "metadata": {},
   "outputs": [],
   "source": [
    "df.to_csv(\"users_churn.csv\", index=False) "
   ]
  },
  {
   "cell_type": "code",
   "execution_count": 7,
   "id": "17074fe3",
   "metadata": {},
   "outputs": [
    {
     "name": "stderr",
     "output_type": "stream",
     "text": [
      "/home/mle-user/.local/lib/python3.10/site-packages/pydantic/_internal/_fields.py:151: UserWarning: Field \"model_server_url\" has conflict with protected namespace \"model_\".\n",
      "\n",
      "You may be able to resolve this warning by setting `model_config['protected_namespaces'] = ()`.\n",
      "  warnings.warn(\n",
      "/home/mle-user/.local/lib/python3.10/site-packages/pydantic/_internal/_config.py:322: UserWarning: Valid config keys have changed in V2:\n",
      "* 'schema_extra' has been renamed to 'json_schema_extra'\n",
      "  warnings.warn(message, UserWarning)\n"
     ]
    }
   ],
   "source": [
    "import mlflow\n",
    "import os\n",
    "EXPERIMENT_NAME='test_connection_experiment_vadim_shakula'\n",
    "RUN_NAME='baseline_logreg_v1'\n",
    "\n",
    "# создаём новый эксперимент в MLflow с указанным названием \n",
    "# если эксперимент с таким именем уже существует, \n",
    "# MLflow возвращает идентификатор существующего эксперимента\n",
    "mlflow.set_experiment(EXPERIMENT_NAME)\n",
    "experiment_id = mlflow.get_experiment_by_name(EXPERIMENT_NAME).experiment_id\n",
    "\n",
    "with mlflow.start_run(run_name=RUN_NAME, experiment_id=experiment_id) as run:\n",
    "    # получаем уникальный идентификатор запуска эксперимента\n",
    "    run_id = run.info.run_id\n",
    "    \n",
    "    # логируем метрики эксперимента\n",
    "    # предполагается, что переменная stats содержит словарь с метриками,\n",
    "    # где ключи — это названия метрик, а значения — числовые значения метрик\n",
    "    mlflow.log_metrics(stats)\n",
    "    \n",
    "    # логируем файлы как артефакты эксперимента — 'columns.txt' и 'users_churn.csv'\n",
    "    mlflow.log_artifact('columns.txt', \"dataframe\")\n",
    "    mlflow.log_artifact('users_churn.csv', \"dataframe\")\n",
    "\n",
    "\n",
    "experiment = mlflow.get_experiment_by_name(EXPERIMENT_NAME)\n",
    "# получаем данные о запуске эксперимента по его уникальному идентификатору\n",
    "run = mlflow.get_run(run_id) \n",
    "\n",
    "\n",
    "# проверяем, что статус запуска эксперимента изменён на 'FINISHED'\n",
    "# это утверждение (assert) можно использовать для автоматической проверки того, \n",
    "# что эксперимент был завершён успешно\n",
    "assert (run.info.status =='FINISHED')\n",
    "\n",
    "# удаляем файлы 'columns.txt' и 'users_churn.csv' из файловой системы,\n",
    "# чтобы очистить рабочую среду после логирования артефактов\n",
    "os.remove('columns.txt') \n",
    "os.remove('users_churn.csv')"
   ]
  },
  {
   "cell_type": "code",
   "execution_count": 8,
   "id": "787e7eed",
   "metadata": {},
   "outputs": [
    {
     "name": "stdout",
     "output_type": "stream",
     "text": [
      "548588041841417201\n",
      "test_connection_experiment_vadim_shakula\n",
      "3ff405c5e1e147a3893dc517c866f1ff\n"
     ]
    }
   ],
   "source": [
    "print(experiment_id)\n",
    "print(EXPERIMENT_NAME)\n",
    "print(run_id)"
   ]
  },
  {
   "cell_type": "code",
   "execution_count": 9,
   "id": "8672308d",
   "metadata": {},
   "outputs": [],
   "source": [
    "def create_connection():\n",
    "\n",
    "    load_dotenv()\n",
    "    host = os.environ.get('DB_DESTINATION_HOST')\n",
    "    port = os.environ.get('DB_DESTINATION_PORT')\n",
    "    db = os.environ.get('DB_DESTINATION_NAME')\n",
    "    username = os.environ.get('DB_DESTINATION_USER')\n",
    "    password = os.environ.get('DB_DESTINATION_PASSWORD')\n",
    "    \n",
    "    print(f'postgresql://{username}:{password}@{host}:{port}/{db}')\n",
    "    conn = create_engine(f'postgresql://{username}:{password}@{host}:{port}/{db}', connect_args={'sslmode':'require'})\n",
    "    return conn"
   ]
  },
  {
   "cell_type": "code",
   "execution_count": 10,
   "id": "710ee443",
   "metadata": {},
   "outputs": [],
   "source": [
    "sql = f\"\"\"select count(*) \n",
    "from experiments \n",
    "join runs on experiments.experiment_id = runs.experiment_id \n",
    "where experiments.experiment_id = 548588041841417201\n",
    "  and experiments.name = 'test_connection_experiment_vadim_shakula' \n",
    "  and runs.lifecycle_stage = 'active'\"\"\""
   ]
  },
  {
   "cell_type": "code",
   "execution_count": 11,
   "id": "767dd77a",
   "metadata": {},
   "outputs": [],
   "source": [
    "sql = f\"\"\"select experiments.name\n",
    "from experiments \n",
    "join runs on experiments.experiment_id = runs.experiment_id \n",
    "where experiments.name = 'test_connection_experiment_vadim_shakula'\n",
    "    and runs.lifecycle_stage = 'active'\"\"\""
   ]
  },
  {
   "cell_type": "code",
   "execution_count": 12,
   "id": "b3afbc3b",
   "metadata": {},
   "outputs": [
    {
     "name": "stderr",
     "output_type": "stream",
     "text": [
      "/tmp/ipykernel_175568/445849524.py:1: UserWarning: pandas only supports SQLAlchemy connectable (engine/connection) or database string URI or sqlite3 DBAPI2 connection. Other DBAPI2 objects are not tested. Please consider using SQLAlchemy.\n",
      "  dt = pd.read_sql_query(sql, conn)\n"
     ]
    }
   ],
   "source": [
    "dt = pd.read_sql_query(sql, conn)"
   ]
  },
  {
   "cell_type": "code",
   "execution_count": 13,
   "id": "0e4e7fd1",
   "metadata": {},
   "outputs": [
    {
     "name": "stdout",
     "output_type": "stream",
     "text": [
      "                                        name\n",
      "0   test_connection_experiment_vadim_shakula\n",
      "1   test_connection_experiment_vadim_shakula\n",
      "2   test_connection_experiment_vadim_shakula\n",
      "3   test_connection_experiment_vadim_shakula\n",
      "4   test_connection_experiment_vadim_shakula\n",
      "5   test_connection_experiment_vadim_shakula\n",
      "6   test_connection_experiment_vadim_shakula\n",
      "7   test_connection_experiment_vadim_shakula\n",
      "8   test_connection_experiment_vadim_shakula\n",
      "9   test_connection_experiment_vadim_shakula\n",
      "10  test_connection_experiment_vadim_shakula\n"
     ]
    }
   ],
   "source": [
    "print(dt)"
   ]
  },
  {
   "cell_type": "code",
   "execution_count": 15,
   "id": "402f17d8",
   "metadata": {},
   "outputs": [
    {
     "name": "stderr",
     "output_type": "stream",
     "text": [
      "/tmp/ipykernel_175568/1913469447.py:21: UserWarning: pandas only supports SQLAlchemy connectable (engine/connection) or database string URI or sqlite3 DBAPI2 connection. Other DBAPI2 objects are not tested. Please consider using SQLAlchemy.\n",
      "  date = pd.read_sql_query(sqll, conn)\n"
     ]
    }
   ],
   "source": [
    "sqll = f\"\"\"select id,customer_id,begin_date,end_date,\n",
    "type,\n",
    "paperless_billing,\n",
    "payment_method,\n",
    "monthly_charges,\n",
    "total_charges,\n",
    "internet_service,\n",
    "online_security,\n",
    "online_backup,\n",
    "device_protection,\n",
    "tech_support,\n",
    "streaming_tv,\n",
    "streaming_movies,\n",
    "gender,\n",
    "senior_citizen,\n",
    "partner, \n",
    "dependents,\n",
    "multiple_lines,\n",
    "target\n",
    "from users_churn\"\"\"\n",
    "date = pd.read_sql_query(sqll, conn)\n"
   ]
  },
  {
   "cell_type": "code",
   "execution_count": 16,
   "id": "2b5504da",
   "metadata": {},
   "outputs": [
    {
     "name": "stdout",
     "output_type": "stream",
     "text": [
      "         id customer_id begin_date   end_date            type   \n",
      "0         4  7795-CFOCW 2016-05-01        NaT        One year  \\\n",
      "1         5  9237-HQITU 2019-09-01 2019-11-01  Month-to-month   \n",
      "2         6  9305-CDSKC 2019-03-01 2019-11-01  Month-to-month   \n",
      "3         7  1452-KIOVK 2018-04-01        NaT  Month-to-month   \n",
      "4         8  6713-OKOMC 2019-04-01        NaT  Month-to-month   \n",
      "...     ...         ...        ...        ...             ...   \n",
      "7038  13028  0550-DCXLH 2019-01-01        NaT  Month-to-month   \n",
      "7039  13029  9281-CEDRU 2014-06-01        NaT        Two year   \n",
      "7040  13030  2235-DWLJU 2019-08-01        NaT  Month-to-month   \n",
      "7041  13031  0871-OPBXW 2019-12-01        NaT  Month-to-month   \n",
      "7042  13032  3605-JISKB 2015-07-01        NaT        One year   \n",
      "\n",
      "     paperless_billing             payment_method  monthly_charges   \n",
      "0                   No  Bank transfer (automatic)            42.30  \\\n",
      "1                  Yes           Electronic check            70.70   \n",
      "2                  Yes           Electronic check            99.65   \n",
      "3                  Yes    Credit card (automatic)            89.10   \n",
      "4                   No               Mailed check            29.75   \n",
      "...                ...                        ...              ...   \n",
      "7038                No               Mailed check            73.35   \n",
      "7039                No  Bank transfer (automatic)            64.10   \n",
      "7040               Yes           Electronic check            44.40   \n",
      "7041               Yes               Mailed check            20.05   \n",
      "7042                No    Credit card (automatic)            60.00   \n",
      "\n",
      "      total_charges internet_service  ... device_protection tech_support   \n",
      "0           1840.75              DSL  ...               Yes          Yes  \\\n",
      "1            151.65      Fiber optic  ...                No           No   \n",
      "2            820.50      Fiber optic  ...               Yes           No   \n",
      "3           1949.40      Fiber optic  ...                No           No   \n",
      "4            301.90              DSL  ...                No           No   \n",
      "...             ...              ...  ...               ...          ...   \n",
      "7038         931.55              DSL  ...                No          Yes   \n",
      "7039        4326.25              DSL  ...                No          Yes   \n",
      "7040         263.05              DSL  ...                No           No   \n",
      "7041          39.25             None  ...              None         None   \n",
      "7042        3316.10              DSL  ...                No           No   \n",
      "\n",
      "     streaming_tv streaming_movies  gender senior_citizen partner  dependents   \n",
      "0              No               No    Male              0      No          No  \\\n",
      "1              No               No  Female              0      No          No   \n",
      "2             Yes              Yes  Female              0      No          No   \n",
      "3             Yes               No    Male              0      No         Yes   \n",
      "4              No               No  Female              0      No          No   \n",
      "...           ...              ...     ...            ...     ...         ...   \n",
      "7038          Yes              Yes    Male              0      No          No   \n",
      "7039          Yes               No  Female              0     Yes          No   \n",
      "7040          Yes              Yes  Female              1      No          No   \n",
      "7041         None             None  Female              0      No          No   \n",
      "7042           No               No    Male              1     Yes          No   \n",
      "\n",
      "     multiple_lines target  \n",
      "0              None      0  \n",
      "1                No      1  \n",
      "2               Yes      1  \n",
      "3               Yes      0  \n",
      "4              None      0  \n",
      "...             ...    ...  \n",
      "7038             No      0  \n",
      "7039             No      0  \n",
      "7040           None      0  \n",
      "7041             No      0  \n",
      "7042            Yes      0  \n",
      "\n",
      "[7043 rows x 22 columns]\n"
     ]
    }
   ],
   "source": [
    "print(date)"
   ]
  },
  {
   "cell_type": "code",
   "execution_count": 17,
   "id": "8610c0ba",
   "metadata": {},
   "outputs": [
    {
     "name": "stdout",
     "output_type": "stream",
     "text": [
      "<class 'pandas.core.frame.DataFrame'>\n",
      "RangeIndex: 7043 entries, 0 to 7042\n",
      "Data columns (total 22 columns):\n",
      " #   Column             Non-Null Count  Dtype         \n",
      "---  ------             --------------  -----         \n",
      " 0   id                 7043 non-null   int64         \n",
      " 1   customer_id        7043 non-null   object        \n",
      " 2   begin_date         7043 non-null   datetime64[ns]\n",
      " 3   end_date           1869 non-null   datetime64[ns]\n",
      " 4   type               7043 non-null   object        \n",
      " 5   paperless_billing  7043 non-null   object        \n",
      " 6   payment_method     7043 non-null   object        \n",
      " 7   monthly_charges    7043 non-null   float64       \n",
      " 8   total_charges      7032 non-null   float64       \n",
      " 9   internet_service   5517 non-null   object        \n",
      " 10  online_security    5517 non-null   object        \n",
      " 11  online_backup      5517 non-null   object        \n",
      " 12  device_protection  5517 non-null   object        \n",
      " 13  tech_support       5517 non-null   object        \n",
      " 14  streaming_tv       5517 non-null   object        \n",
      " 15  streaming_movies   5517 non-null   object        \n",
      " 16  gender             7043 non-null   object        \n",
      " 17  senior_citizen     7043 non-null   int64         \n",
      " 18  partner            7043 non-null   object        \n",
      " 19  dependents         7043 non-null   object        \n",
      " 20  multiple_lines     6361 non-null   object        \n",
      " 21  target             7043 non-null   int64         \n",
      "dtypes: datetime64[ns](2), float64(2), int64(3), object(15)\n",
      "memory usage: 1.2+ MB\n"
     ]
    }
   ],
   "source": [
    "date.info()"
   ]
  }
 ],
 "metadata": {
  "kernelspec": {
   "display_name": "Python 3",
   "language": "python",
   "name": "python3"
  },
  "language_info": {
   "codemirror_mode": {
    "name": "ipython",
    "version": 3
   },
   "file_extension": ".py",
   "mimetype": "text/x-python",
   "name": "python",
   "nbconvert_exporter": "python",
   "pygments_lexer": "ipython3",
   "version": "3.10.12"
  }
 },
 "nbformat": 4,
 "nbformat_minor": 5
}
