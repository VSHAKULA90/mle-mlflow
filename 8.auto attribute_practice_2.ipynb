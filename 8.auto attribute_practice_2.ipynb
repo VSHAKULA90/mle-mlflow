{
 "cells": [
  {
   "cell_type": "code",
   "execution_count": null,
   "id": "4778e9bd",
   "metadata": {},
   "outputs": [
    {
     "ename": "ModuleNotFoundError",
     "evalue": "No module named 'MlflowClient'",
     "output_type": "error",
     "traceback": [
      "\u001b[0;31m---------------------------------------------------------------------------\u001b[0m",
      "\u001b[0;31mModuleNotFoundError\u001b[0m                       Traceback (most recent call last)",
      "Cell \u001b[0;32mIn[59], line 13\u001b[0m\n\u001b[1;32m     11\u001b[0m \u001b[38;5;28;01mfrom\u001b[39;00m \u001b[38;5;21;01msklearn\u001b[39;00m\u001b[38;5;21;01m.\u001b[39;00m\u001b[38;5;21;01mmodel_selection\u001b[39;00m \u001b[38;5;28;01mimport\u001b[39;00m train_test_split\n\u001b[1;32m     12\u001b[0m \u001b[38;5;28;01mfrom\u001b[39;00m \u001b[38;5;21;01mautofeat\u001b[39;00m \u001b[38;5;28;01mimport\u001b[39;00m AutoFeatClassifier\n\u001b[0;32m---> 13\u001b[0m \u001b[38;5;28;01mimport\u001b[39;00m \u001b[38;5;21;01mMlflowClient\u001b[39;00m\n\u001b[1;32m     15\u001b[0m TABLE_NAME \u001b[38;5;241m=\u001b[39m \u001b[38;5;124m\"\u001b[39m\u001b[38;5;124musers_churn\u001b[39m\u001b[38;5;124m\"\u001b[39m\n\u001b[1;32m     16\u001b[0m TRACKING_SERVER_HOST \u001b[38;5;241m=\u001b[39m \u001b[38;5;124m\"\u001b[39m\u001b[38;5;124m127.0.0.1\u001b[39m\u001b[38;5;124m\"\u001b[39m\n",
      "\u001b[0;31mModuleNotFoundError\u001b[0m: No module named 'MlflowClient'"
     ]
    }
   ],
   "source": [
    "import os\n",
    "\n",
    "import psycopg\n",
    "import pandas as pd\n",
    "import mlflow\n",
    "from catboost import CatBoostClassifier\n",
    "from mlxtend.feature_selection import SequentialFeatureSelector as SFS\n",
    "from mlxtend.plotting import plot_sequential_feature_selection as plot_sfs\n",
    "from sklearn.ensemble import RandomForestClassifier\n",
    "import matplotlib.pyplot as plt\n",
    "from sklearn.model_selection import train_test_split\n",
    "from autofeat import AutoFeatClassifier\n",
    "\n",
    "TABLE_NAME = \"users_churn\"\n",
    "TRACKING_SERVER_HOST = \"127.0.0.1\"\n",
    "TRACKING_SERVER_PORT = 5000\n",
    "\n",
    "EXPERIMENT_NAME = \"test_connection_experiment_vadim_shakula\"\n",
    "RUN_NAME = \"feature_selection\"\n",
    "REGISTRY_MODEL_NAME = \"churn_model_vadimshakula\""
   ]
  },
  {
   "cell_type": "code",
   "execution_count": 2,
   "id": "9104fff5",
   "metadata": {},
   "outputs": [],
   "source": [
    "connection = {\"sslmode\": \"require\", \"target_session_attrs\": \"read-write\"}\n",
    "postgres_credentials = {\n",
    "    \"host\": os.getenv(\"DB_DESTINATION_HOST\"),\n",
    "    \"port\": os.getenv(\"DB_DESTINATION_PORT\"),\n",
    "    \"dbname\": os.getenv(\"DB_DESTINATION_NAME\"),\n",
    "    \"user\": os.getenv(\"DB_DESTINATION_USER\"),\n",
    "    \"password\": os.getenv(\"DB_DESTINATION_PASSWORD\"),\n",
    "}\n",
    "\n",
    "connection.update(postgres_credentials)\n",
    "\n",
    "with psycopg.connect(**connection) as conn:\n",
    "    with conn.cursor() as cur:\n",
    "        sql = \"\"\"\n",
    "            select customer_id,\n",
    "                   begin_date,\n",
    "                   end_date,\n",
    "                   type,\n",
    "                   paperless_billing,\n",
    "                   payment_method,\n",
    "                   monthly_charges,\n",
    "                   total_charges,\n",
    "                   internet_service,\n",
    "                   online_security,\n",
    "                   online_backup,\n",
    "                   device_protection,\n",
    "                   tech_support,\n",
    "                   streaming_tv,\n",
    "                   streaming_movies,\n",
    "                   gender,\n",
    "                   senior_citizen,\n",
    "                   partner,\n",
    "                   dependents,\n",
    "                   multiple_lines,\n",
    "                   target\n",
    "            from users_churn\n",
    "        \"\"\"\n",
    "        cur.execute(sql)\n",
    "        data = cur.fetchall()                       \n",
    "        columns = [desc.name for desc in cur.description] \n",
    "\n",
    "df = pd.DataFrame(data, columns=columns)"
   ]
  },
  {
   "cell_type": "code",
   "execution_count": 12,
   "id": "47836290",
   "metadata": {},
   "outputs": [
    {
     "name": "stdout",
     "output_type": "stream",
     "text": [
      "Число исходных признаков: 40\n",
      "Выбираем k_features = 10\n",
      "\n",
      "Sequential Forward Selection (SFS)\n",
      "CV AUC: 0.8132787837411849\n",
      "Top features: ('monthly_charges', 'total_charges', 'cat_paperless_billing_Yes', 'cat_payment_method_Bank transfer (automatic)', 'cat_internet_service_Fiber optic', 'cat_streaming_tv_Yes', 'cat_streaming_movies_No', 'cat_senior_citizen_0', 'cat_dependents_No', 'cat_multiple_lines_No')\n",
      "\n",
      "Sequential Backward Selection (SBS)\n",
      "CV AUC: 0.816496964536931\n",
      "Top features: ('total_charges', 'cat_paperless_billing_Yes', 'cat_payment_method_Bank transfer (automatic)', 'cat_internet_service_Fiber optic', 'cat_online_security_Yes', 'cat_tech_support_Yes', 'cat_streaming_tv_Yes', 'cat_streaming_movies_None', 'cat_gender_Female', 'cat_multiple_lines_Yes')\n"
     ]
    }
   ],
   "source": [
    "# ================== Полный рабочий блок для SFS/SBS с кэшем ==================\n",
    "# Импорты и базовые настройки\n",
    "import os\n",
    "import pickle\n",
    "from pathlib import Path\n",
    "import numpy as np\n",
    "\n",
    "from sklearn.model_selection import StratifiedKFold\n",
    "from sklearn.ensemble import RandomForestClassifier\n",
    "from mlxtend.feature_selection import SequentialFeatureSelector as SFS\n",
    "\n",
    "# --- управляем кэшированием и путями ---\n",
    "FORCE_REFIT = bool(int(os.getenv(\"FORCE_REFIT\", \"0\")))  # 0/1 из окружения; по умолчанию False\n",
    "CACHE_DIR = Path(os.getenv(\"SELECTOR_CACHE_DIR\", \"./selector_cache\"))\n",
    "CACHE_DIR.mkdir(parents=True, exist_ok=True)\n",
    "\n",
    "# -------- вспомогалки ----------\n",
    "def _hash_config(d: dict) -> str:\n",
    "    import hashlib\n",
    "    return hashlib.md5(repr(sorted(d.items())).encode(\"utf-8\")).hexdigest()[:12]\n",
    "\n",
    "def _selector_signature(sel) -> dict:\n",
    "    sig = {}\n",
    "    for attr in [\"k_features\", \"forward\", \"floating\", \"scoring\", \"cv\", \"n_jobs\"]:\n",
    "        if hasattr(sel, attr):\n",
    "            sig[attr] = getattr(sel, attr)\n",
    "    est = getattr(sel, \"estimator\", None)\n",
    "    if est is not None:\n",
    "        sig[\"estimator_cls\"] = est.__class__.__name__\n",
    "        try:\n",
    "            sig[\"estimator_params\"] = est.get_params()\n",
    "        except Exception:\n",
    "            sig[\"estimator_params\"] = str(est)\n",
    "    return sig\n",
    "\n",
    "def _data_signature(X, y) -> dict:\n",
    "    cols = getattr(X, \"columns\", None)\n",
    "    if cols is not None:\n",
    "        cols = tuple(map(str, cols))\n",
    "    xshape = getattr(X, \"shape\", None)\n",
    "    yshape = getattr(y, \"shape\", None)\n",
    "    return {\"X_cols\": cols, \"X_shape\": xshape, \"y_shape\": yshape}\n",
    "\n",
    "def cached_fit_selector(selector, X, y, name: str, force_refit: bool=False):\n",
    "    cfg = {\"name\": name}\n",
    "    cfg.update(_selector_signature(selector))\n",
    "    cfg.update(_data_signature(X, y))\n",
    "    key = _hash_config(cfg)\n",
    "    path = CACHE_DIR / f\"{name}_{key}.pkl\"\n",
    "    if path.exists() and not force_refit:\n",
    "        with open(path, \"rb\") as f:\n",
    "            return pickle.load(f)\n",
    "    fitted = selector.fit(X, y)\n",
    "    with open(path, \"wb\") as f:\n",
    "        pickle.dump(fitted, f)\n",
    "    return fitted\n",
    "\n",
    "# -------- подхватываем твои данные из предыдущей ячейки ----------\n",
    "# Ожидается, что переменные X_train_features, X_test_features, y_train уже существуют.\n",
    "X_tr = X_train_features\n",
    "X_te = X_test_features\n",
    "# делаем y одномерным (на случай, если это DataFrame со столбцом 'target')\n",
    "y_tr = np.ravel(y_train.values if hasattr(y_train, \"values\") else y_train)\n",
    "\n",
    "# --- имена признаков для вывода (если это не DataFrame — создадим f0, f1, ...) ---\n",
    "if hasattr(X_tr, \"columns\"):\n",
    "    feature_names = list(map(str, X_tr.columns))\n",
    "else:\n",
    "    feature_names = [f\"f{i}\" for i in range(X_tr.shape[1])]\n",
    "\n",
    "# (опционально) ускоряем вычисления float32\n",
    "try:\n",
    "    if hasattr(X_tr, \"astype\"):\n",
    "        X_tr = X_tr.astype(np.float32, copy=False)\n",
    "        if X_te is not None and hasattr(X_te, \"astype\"):\n",
    "            X_te = X_te.astype(np.float32, copy=False)\n",
    "except Exception:\n",
    "    pass\n",
    "\n",
    "# --- безопасно определим k_features (не больше числа признаков и >=1) ---\n",
    "n_features = X_tr.shape[1]\n",
    "k_best = max(1, min(10, n_features))\n",
    "\n",
    "# лёгкий RF для селекции (быстрее, чем глубокий лес)\n",
    "selector_estimator = RandomForestClassifier(\n",
    "    n_estimators=120,\n",
    "    max_depth=8,\n",
    "    min_samples_leaf=5,\n",
    "    max_features=\"sqrt\",\n",
    "    n_jobs=-1,\n",
    "    random_state=42,\n",
    ")\n",
    "\n",
    "# более дешёвый CV\n",
    "cv3 = StratifiedKFold(n_splits=3, shuffle=True, random_state=42)\n",
    "\n",
    "# --- SFS (forward) ---\n",
    "sfs = SFS(\n",
    "    selector_estimator,\n",
    "    k_features=k_best,\n",
    "    forward=True,\n",
    "    floating=False,      # floating существенно дороже; отключаем\n",
    "    scoring=\"roc_auc\",\n",
    "    cv=cv3,\n",
    "    n_jobs=-1,\n",
    "    verbose=0,\n",
    ")\n",
    "sfs = cached_fit_selector(sfs, X_tr, y_tr, name=\"sfs\", force_refit=FORCE_REFIT)\n",
    "\n",
    "# --- SBS (backward) ---\n",
    "sbs = SFS(\n",
    "    selector_estimator,\n",
    "    k_features=k_best,\n",
    "    forward=False,\n",
    "    floating=False,\n",
    "    scoring=\"roc_auc\",\n",
    "    cv=cv3,\n",
    "    n_jobs=-1,\n",
    "    verbose=0,\n",
    ")\n",
    "sbs = cached_fit_selector(sbs, X_tr, y_tr, name=\"sbs\", force_refit=FORCE_REFIT)\n",
    "\n",
    "# --- извлекаем выбранные индексы/имена признаков\n",
    "def _chosen_names(selector, all_names):\n",
    "    idx = getattr(selector, \"k_feature_idx_\", None)\n",
    "    if idx is None:\n",
    "        # запасной вариант — попробуем k_feature_names_; если нет — вернём пустой кортеж\n",
    "        names = getattr(selector, \"k_feature_names_\", ())\n",
    "        return tuple(map(str, names)) if names else ()\n",
    "    return tuple(all_names[i] for i in idx)\n",
    "\n",
    "top_sfs = _chosen_names(sfs, feature_names)\n",
    "top_sbs = _chosen_names(sbs, feature_names)\n",
    "\n",
    "# --- трансформации обучающей/тестовой выборок\n",
    "X_train_sfs = sfs.transform(X_tr)\n",
    "X_train_sbs = sbs.transform(X_tr)\n",
    "X_test_sfs  = sfs.transform(X_te) if X_te is not None else None\n",
    "X_test_sbs  = sbs.transform(X_te) if X_te is not None else None\n",
    "\n",
    "# --- вывод результатов\n",
    "print(f\"Число исходных признаков: {n_features}\")\n",
    "print(f\"Выбираем k_features = {k_best}\")\n",
    "\n",
    "print(\"\\nSequential Forward Selection (SFS)\")\n",
    "print(\"CV AUC:\", getattr(sfs, \"k_score_\", None))\n",
    "print(\"Top features:\", top_sfs)\n",
    "\n",
    "print(\"\\nSequential Backward Selection (SBS)\")\n",
    "print(\"CV AUC:\", getattr(sbs, \"k_score_\", None))\n",
    "print(\"Top features:\", top_sbs)\n",
    "# ============================================================================== \n"
   ]
  },
  {
   "cell_type": "code",
   "execution_count": 13,
   "id": "6b061151",
   "metadata": {},
   "outputs": [],
   "source": [
    "sfs_df = pd.DataFrame.from_dict(sfs.get_metric_dict()).T\n",
    "sbs_df = pd.DataFrame.from_dict(sbs.get_metric_dict()).T "
   ]
  },
  {
   "cell_type": "code",
   "execution_count": 18,
   "id": "1079a34e",
   "metadata": {},
   "outputs": [],
   "source": [
    "import os\n",
    "\n",
    "# создаём папку, если её нет\n",
    "os.makedirs(FS_ASSETS, exist_ok=True)\n",
    "\n",
    "# пути к файлам\n",
    "sfs_path = os.path.join(FS_ASSETS, \"sfs.csv\")\n",
    "sbs_path = os.path.join(FS_ASSETS, \"sbs.csv\")\n",
    "\n",
    "# удаляем старые версии, если есть\n",
    "for path in [sfs_path, sbs_path]:\n",
    "    if os.path.exists(path):\n",
    "        os.remove(path)\n",
    "\n",
    "# сохраняем новые\n",
    "sfs_df.to_csv(sfs_path, index=False)\n",
    "sbs_df.to_csv(sbs_path, index=False)\n"
   ]
  },
  {
   "cell_type": "code",
   "execution_count": 31,
   "id": "d8e9c2c7",
   "metadata": {},
   "outputs": [
    {
     "data": {
      "image/png": "[encoded data removed]",
      "text/plain": [
       "<Figure size 640x480 with 1 Axes>"
      ]
     },
     "metadata": {},
     "output_type": "display_data"
    },
    {
     "data": {
      "text/plain": [
       "<Figure size 640x480 with 0 Axes>"
      ]
     },
     "metadata": {},
     "output_type": "display_data"
    }
   ],
   "source": [
    "import matplotlib.pyplot as plt\n",
    "from mlxtend.plotting import plot_sequential_feature_selection as plot_sfs\n",
    "\n",
    "os.makedirs(FS_ASSETS, exist_ok=True)\n",
    "fig = plot_sfs(sfs.get_metric_dict(), kind='std_dev')\n",
    "\n",
    "plt.title('Sequential Forward Selection (w. StdDev)')\n",
    "plt.grid()\n",
    "plt.show()\n",
    "\n",
    "path = \"fs_assets/sfs.png\"\n",
    "if os.path.exists(path):\n",
    "    os.remove(path)\n",
    "\n",
    "plt.savefig(\"fs_assets/sfs.png\") "
   ]
  },
  {
   "cell_type": "code",
   "execution_count": 32,
   "id": "aa40f40b",
   "metadata": {},
   "outputs": [
    {
     "data": {
      "image/png": "[encoded data removed]",
      "text/plain": [
       "<Figure size 640x480 with 1 Axes>"
      ]
     },
     "metadata": {},
     "output_type": "display_data"
    },
    {
     "data": {
      "text/plain": [
       "<Figure size 640x480 with 0 Axes>"
      ]
     },
     "metadata": {},
     "output_type": "display_data"
    }
   ],
   "source": [
    "import matplotlib.pyplot as plt\n",
    "from mlxtend.plotting import plot_sequential_feature_selection as plot_sfs\n",
    "\n",
    "os.makedirs(FS_ASSETS, exist_ok=True)\n",
    "fig = plot_sfs(sbs.get_metric_dict(), kind='std_dev')\n",
    "\n",
    "plt.title('Sequential Backward Selection (w. StdDev)')\n",
    "plt.grid()\n",
    "plt.show()\n",
    "\n",
    "path = \"fs_assets/sbs.png\"\n",
    "if os.path.exists(path):\n",
    "    os.remove(path)\n",
    "\n",
    "plt.savefig(\"fs_assets/sbs.png\") "
   ]
  },
  {
   "cell_type": "code",
   "execution_count": 33,
   "id": "3c0697db",
   "metadata": {},
   "outputs": [],
   "source": [
    "interc_features = list(set(top_sbs) & set(top_sfs))\n",
    "union_features = list(set(top_sbs) | set(top_sfs))"
   ]
  },
  {
   "cell_type": "code",
   "execution_count": 34,
   "id": "720dd057",
   "metadata": {},
   "outputs": [
    {
     "name": "stdout",
     "output_type": "stream",
     "text": [
      "['cat_internet_service_Fiber optic', 'cat_payment_method_Bank transfer (automatic)', 'cat_paperless_billing_Yes', 'cat_streaming_tv_Yes', 'total_charges']\n",
      "['cat_streaming_movies_No', 'cat_payment_method_Bank transfer (automatic)', 'cat_streaming_tv_Yes', 'cat_streaming_movies_None', 'total_charges', 'cat_multiple_lines_Yes', 'cat_senior_citizen_0', 'cat_multiple_lines_No', 'cat_internet_service_Fiber optic', 'cat_paperless_billing_Yes', 'cat_dependents_No', 'cat_tech_support_Yes', 'cat_gender_Female', 'monthly_charges', 'cat_online_security_Yes']\n"
     ]
    }
   ],
   "source": [
    "print(interc_features)\n",
    "print(union_features)"
   ]
  },
  {
   "cell_type": "code",
   "execution_count": 37,
   "id": "d639d692",
   "metadata": {},
   "outputs": [
    {
     "name": "stderr",
     "output_type": "stream",
     "text": [
      "2025-09-05 16:00:30,925 INFO: Found credentials in environment variables.\n"
     ]
    }
   ],
   "source": [
    "os.environ[\"MLFLOW_S3_ENDPOINT_URL\"] = \"https://storage.yandexcloud.net\"\n",
    "os.environ[\"AWS_ACCESS_KEY_ID\"] = os.getenv('AWS_ACCESS_KEY_ID')\n",
    "os.environ[\"AWS_SECRET_ACCESS_KEY\"] = os.getenv('AWS_SECRET_ACCESS_KEY')\n",
    "\n",
    "mlflow.set_tracking_uri(f\"http://{TRACKING_SERVER_HOST}:{TRACKING_SERVER_PORT}\")\n",
    "mlflow.set_registry_uri(f\"http://{TRACKING_SERVER_HOST}:{TRACKING_SERVER_PORT}\")\n",
    "\n",
    "experiment_id = mlflow.get_experiment_by_name(EXPERIMENT_NAME).experiment_id\n",
    "\n",
    "with mlflow.start_run(run_name=f\"{RUN_NAME}_intersection_and_union\", experiment_id=experiment_id) as run:\n",
    "    run_id = run.info.run_id\n",
    "   \n",
    "    mlflow.log_artifacts(FS_ASSETS) "
   ]
  },
  {
   "cell_type": "code",
   "execution_count": 41,
   "id": "e528cc19",
   "metadata": {},
   "outputs": [
    {
     "name": "stdout",
     "output_type": "stream",
     "text": [
      "65a14a7ac09b4e20a3e6720062e24331\n",
      "test_connection_experiment_vadim_shakula\n",
      "feature_selection\n"
     ]
    }
   ],
   "source": [
    "print(run_id)\n",
    "print(EXPERIMENT_NAME)\n",
    "print(RUN_NAME)"
   ]
  },
  {
   "cell_type": "code",
   "execution_count": 42,
   "id": "8c70b534",
   "metadata": {},
   "outputs": [],
   "source": [
    "# --- Registered Model name ---\n",
    "registered_model_name = \"feature_selection\""
   ]
  },
  {
   "cell_type": "code",
   "execution_count": 44,
   "id": "77a92e9f",
   "metadata": {},
   "outputs": [
    {
     "name": "stdout",
     "output_type": "stream",
     "text": [
      "Intersection: ['cat_internet_service_Fiber optic', 'cat_payment_method_Bank transfer (automatic)', 'cat_paperless_billing_Yes', 'cat_streaming_tv_Yes', 'total_charges']\n",
      "Union: ['cat_streaming_movies_No', 'cat_payment_method_Bank transfer (automatic)', 'cat_streaming_tv_Yes', 'cat_streaming_movies_None', 'total_charges', 'cat_multiple_lines_Yes', 'cat_senior_citizen_0', 'cat_multiple_lines_No', 'cat_internet_service_Fiber optic', 'cat_paperless_billing_Yes', 'cat_dependents_No', 'cat_tech_support_Yes', 'cat_gender_Female', 'monthly_charges', 'cat_online_security_Yes']\n"
     ]
    }
   ],
   "source": [
    "# --- Формируем множества признаков ---\n",
    "print(\"Intersection:\", interc_features)\n",
    "print(\"Union:\", union_features)"
   ]
  },
  {
   "cell_type": "code",
   "execution_count": 45,
   "id": "b24efc0f",
   "metadata": {},
   "outputs": [],
   "source": [
    "# --- Базовый алгоритм ---\n",
    "estimator = RandomForestClassifier(n_estimators=300, random_state=42, n_jobs=-1)"
   ]
  },
  {
   "cell_type": "code",
   "execution_count": 49,
   "id": "6b946a6a",
   "metadata": {},
   "outputs": [],
   "source": [
    "def train_log_register(X_train, X_test, y_train, y_test, features, experiment_name, run_name):\n",
    "    # Выбираем признаки\n",
    "    Xtr = X_train[features]\n",
    "    Xte = X_test[features]\n",
    "\n",
    "    mlflow.set_experiment(experiment_name)\n",
    "    experiment = mlflow.get_experiment_by_name(experiment_name)\n",
    "    experiment_id = experiment.experiment_id\n",
    "    \n",
    "    with mlflow.start_run(run_name=run_name, experiment_id=experiment_id) as run:\n",
    "        run_id = run.info.run_id\n",
    "\n",
    "        # Обучение\n",
    "        model = estimator.fit(Xtr, y_train)\n",
    "\n",
    "        # Метрики\n",
    "        y_pred = model.predict(Xte)\n",
    "        y_proba = model.predict_proba(Xte)[:, 1]\n",
    "        metrics = {\n",
    "            \"accuracy\": accuracy_score(y_test, y_pred),\n",
    "            \"f1\": f1_score(y_test, y_pred),\n",
    "            \"roc_auc\": roc_auc_score(y_test, y_proba),\n",
    "        }\n",
    "        mlflow.log_metrics(metrics)\n",
    "\n",
    "        # Регистрируем модель\n",
    "        model_info = mlflow.sklearn.log_model(\n",
    "            sk_model=model,\n",
    "            artifact_path=\"model\",\n",
    "            registered_model_name=registered_model_name,\n",
    "            input_example=Xtr.iloc[:5],\n",
    "            metadata={\"n_features\": len(features), \"feature_set\": run_name}\n",
    "        )\n",
    "\n",
    "    return run_id, run_name, model_info.model_version"
   ]
  },
  {
   "cell_type": "code",
   "execution_count": 57,
   "id": "097810c2",
   "metadata": {},
   "outputs": [],
   "source": [
    "import numpy as np\n",
    "import pandas as pd\n",
    "import mlflow\n",
    "import mlflow.sklearn\n",
    "from sklearn.pipeline import Pipeline\n",
    "from sklearn.impute import SimpleImputer\n",
    "from sklearn.ensemble import RandomForestClassifier, RandomForestRegressor\n",
    "from sklearn.utils.multiclass import type_of_target\n",
    "from sklearn.metrics import (\n",
    "    accuracy_score, f1_score, roc_auc_score,\n",
    "    r2_score, mean_squared_error, mean_absolute_error\n",
    ")\n",
    "\n",
    "# ---- Определяем тип задачи по y_train ----\n",
    "def _guess_problem_type(y):\n",
    "    t = type_of_target(np.ravel(y))\n",
    "    return \"classification\" if t in (\"binary\", \"multiclass\") else \"regression\"\n",
    "\n",
    "_problem = _guess_problem_type(y_train)\n",
    "\n",
    "# ---- Базовые пайплайны с импутацией ----\n",
    "if _problem == \"classification\":\n",
    "    base_model = Pipeline([\n",
    "        (\"imputer\", SimpleImputer(strategy=\"median\")),\n",
    "        (\"model\", RandomForestClassifier(n_estimators=300, random_state=42, n_jobs=-1))\n",
    "    ])\n",
    "else:\n",
    "    base_model = Pipeline([\n",
    "        (\"imputer\", SimpleImputer(strategy=\"median\")),\n",
    "        (\"model\", RandomForestRegressor(n_estimators=300, random_state=42, n_jobs=-1))\n",
    "    ])\n",
    "\n",
    "def _compute_metrics(y_true, y_pred, proba=None):\n",
    "    if _problem == \"classification\":\n",
    "        m = {\n",
    "            \"accuracy\": float(accuracy_score(y_true, y_pred)),\n",
    "            \"f1\": float(f1_score(y_true, y_pred, average=\"weighted\")),\n",
    "        }\n",
    "        if proba is not None:\n",
    "            # если (n,2) — берём proba положительного класса\n",
    "            pos = proba[:, 1] if (proba.ndim == 2 and proba.shape[1] == 2) else proba\n",
    "            try:\n",
    "                m[\"roc_auc\"] = float(roc_auc_score(y_true, pos))\n",
    "            except Exception:\n",
    "                pass\n",
    "        return m\n",
    "    else:\n",
    "        return {\n",
    "            \"rmse\": float(mean_squared_error(y_true, y_pred, squared=False)),\n",
    "            \"mae\": float(mean_absolute_error(y_true, y_pred)),\n",
    "            \"r2\":  float(r2_score(y_true, y_pred)),\n",
    "        }\n",
    "\n",
    "def train_log_register(\n",
    "    Xtr, Xte, ytr, yte, cols, experiment_name, run_name,\n",
    "    registered_model_name=\"feature_selection\"\n",
    "):\n",
    "    # 1) Страхуемся: берём только реально существующие колонки\n",
    "    cols_exist = [c for c in cols if c in Xtr.columns]\n",
    "    if not cols_exist:\n",
    "        raise ValueError(\"Список признаков пуст после пересечения с колонками трейна.\")\n",
    "\n",
    "    Xtr_s, Xte_s = Xtr[cols_exist], Xte[cols_exist]\n",
    "\n",
    "    # 2) Правильная форма цели\n",
    "    ytr_vec = np.ravel(ytr)\n",
    "    yte_vec = np.ravel(yte)\n",
    "\n",
    "    # 3) Эксперимент\n",
    "    mlflow.set_experiment(experiment_name)\n",
    "    exp = mlflow.get_experiment_by_name(experiment_name)\n",
    "    experiment_id = exp.experiment_id\n",
    "\n",
    "    with mlflow.start_run(run_name=run_name, experiment_id=experiment_id) as run:\n",
    "        run_id = run.info.run_id\n",
    "\n",
    "        mlflow.log_param(\"n_features\", len(cols_exist))\n",
    "        mlflow.log_param(\"features\", \",\".join(cols_exist))\n",
    "        mlflow.log_param(\"problem_type\", _problem)\n",
    "\n",
    "        # 4) Обучение (включая импутацию)\n",
    "        model = base_model.fit(Xtr_s, ytr_vec)\n",
    "\n",
    "        # 5) Предсказания и метрики\n",
    "        y_pred = model.predict(Xte_s)\n",
    "        proba = None\n",
    "        if _problem == \"classification\" and hasattr(model.named_steps[\"model\"], \"predict_proba\"):\n",
    "            proba = model.predict_proba(Xte_s)\n",
    "\n",
    "        metrics = _compute_metrics(yte_vec, y_pred, proba)\n",
    "        mlflow.log_metrics(metrics)\n",
    "\n",
    "        # 6) Лог и регистрация\n",
    "        model_info = mlflow.sklearn.log_model(\n",
    "            sk_model=model,\n",
    "            artifact_path=\"model\",\n",
    "            registered_model_name=registered_model_name,\n",
    "            input_example=Xtr_s.iloc[:5],\n",
    "            metadata={\"feature_set\": run_name, \"n_features\": len(cols_exist)}\n",
    "        )\n",
    "\n",
    "        # --- robust way to get model version ---\n",
    "        client = MlflowClient()\n",
    "        # пробуем быстрый вариант для новых MLflow\n",
    "        version = getattr(model_info, \"registered_model_version\", None)\n",
    "        if version is None:\n",
    "            # ищем среди версий по имени и текущему run_id\n",
    "            versions = client.search_model_versions(f\"name = '{registered_model_name}'\")\n",
    "            run_id_cur = run.info.run_id\n",
    "            match = [v for v in versions if v.run_id == run_id_cur]\n",
    "            if not match:\n",
    "                # запасной вариант: берём последнюю версию по имени\n",
    "                # (подходит, если параллельных логов нет)\n",
    "                match = sorted(versions, key=lambda v: int(v.version))[-1:]\n",
    "            version = match[0].version\n",
    "\n",
    "    return run.info.run_id, run_name, str(version)\n"
   ]
  },
  {
   "cell_type": "code",
   "execution_count": 60,
   "id": "c9b008dd",
   "metadata": {},
   "outputs": [],
   "source": [
    "from mlflow.tracking import MlflowClient"
   ]
  },
  {
   "cell_type": "code",
   "execution_count": 64,
   "id": "1186bfb9",
   "metadata": {},
   "outputs": [
    {
     "name": "stderr",
     "output_type": "stream",
     "text": [
      "/home/mle-user/.local/lib/python3.10/site-packages/mlflow/models/signature.py:344: UserWarning: Hint: Inferred schema contains integer column(s). Integer columns in Python cannot represent missing values. If your input data contains missing values at inference time, it will be encoded as floats and will cause a schema enforcement error. The best way to avoid this problem is to infer the model schema based on a realistic data sample (training dataset) that includes missing values. Alternatively, you can declare integer columns as doubles (float64) whenever these columns may have missing values. See `Handling Integers With Missing Values <https://www.mlflow.org/docs/latest/models.html#handling-integers-with-missing-values>`_ for more details.\n",
      "  output_schema = _infer_schema(prediction)\n",
      "Registered model 'feature_selection' already exists. Creating a new version of this model...\n",
      "2025/09/05 16:38:49 INFO mlflow.tracking._model_registry.client: Waiting up to 300 seconds for model version to finish creation. Model name: feature_selection, version 6\n",
      "Created version '6' of model 'feature_selection'.\n"
     ]
    }
   ],
   "source": [
    "# --- Intersection run ---\n",
    "run_name_interc = \"feature_selection_intersection\"\n",
    "run_id_interc, run_name_interc, model_version_id_interc = train_log_register(\n",
    "    X_train_features, X_test_features, y_train, y_test,\n",
    "    interc_features,\n",
    "    experiment_name=\"feature_selection_intersection\",\n",
    "    run_name=run_name_interc,\n",
    "    registered_model_name=\"feature_selection\"\n",
    ")\n",
    "model_registered_name_interc = \"feature_selection\"  "
   ]
  },
  {
   "cell_type": "code",
   "execution_count": 66,
   "id": "e8317751",
   "metadata": {},
   "outputs": [
    {
     "name": "stderr",
     "output_type": "stream",
     "text": [
      "/home/mle-user/.local/lib/python3.10/site-packages/mlflow/models/signature.py:344: UserWarning: Hint: Inferred schema contains integer column(s). Integer columns in Python cannot represent missing values. If your input data contains missing values at inference time, it will be encoded as floats and will cause a schema enforcement error. The best way to avoid this problem is to infer the model schema based on a realistic data sample (training dataset) that includes missing values. Alternatively, you can declare integer columns as doubles (float64) whenever these columns may have missing values. See `Handling Integers With Missing Values <https://www.mlflow.org/docs/latest/models.html#handling-integers-with-missing-values>`_ for more details.\n",
      "  output_schema = _infer_schema(prediction)\n",
      "Registered model 'feature_selection' already exists. Creating a new version of this model...\n",
      "2025/09/05 16:39:07 INFO mlflow.tracking._model_registry.client: Waiting up to 300 seconds for model version to finish creation. Model name: feature_selection, version 7\n",
      "Created version '7' of model 'feature_selection'.\n"
     ]
    }
   ],
   "source": [
    "# --- Union run ---\n",
    "run_name_union = \"feature_selection_union\"\n",
    "run_id_union, run_name_union, model_version_id_union = train_log_register(\n",
    "    X_train_features, X_test_features, y_train, y_test,\n",
    "    union_features,\n",
    "    experiment_name=\"feature_selection_union\",\n",
    "    run_name=run_name_union,\n",
    "    registered_model_name=\"feature_selection\")"
   ]
  },
  {
   "cell_type": "code",
   "execution_count": 67,
   "id": "f32368bb",
   "metadata": {},
   "outputs": [
    {
     "name": "stdout",
     "output_type": "stream",
     "text": [
      "registered_model_name           : feature_selection\n",
      "INTERSECTION → run_name         : feature_selection_intersection\n",
      "INTERSECTION → run_id           : c23965ff779e40b980753e8a2060c641\n",
      "INTERSECTION → model_version_id : 6\n",
      "INTERSECTION → model_reg_name   : feature_selection\n",
      "------------------------------------------------------------\n",
      "UNION        → run_name         : feature_selection_union\n",
      "UNION        → run_id           : ebeed4f7f9b348c08c23d9ad4f3ee53d\n",
      "UNION        → model_version_id : 7\n"
     ]
    }
   ],
   "source": [
    "print(\"registered_model_name           :\", registered_model_name)\n",
    "print(\"INTERSECTION → run_name         :\", run_name_interc)\n",
    "print(\"INTERSECTION → run_id           :\", run_id_interc)\n",
    "print(\"INTERSECTION → model_version_id :\", model_version_id_interc)\n",
    "print(\"INTERSECTION → model_reg_name   :\", model_registered_name_interc)\n",
    "print(\"-\" * 60)\n",
    "print(\"UNION        → run_name         :\", run_name_union)\n",
    "print(\"UNION        → run_id           :\", run_id_union)\n",
    "print(\"UNION        → model_version_id :\", model_version_id_union)"
   ]
  }
 ],
 "metadata": {
  "kernelspec": {
   "display_name": "Python 3",
   "language": "python",
   "name": "python3"
  },
  "language_info": {
   "codemirror_mode": {
    "name": "ipython",
    "version": 3
   },
   "file_extension": ".py",
   "mimetype": "text/x-python",
   "name": "python",
   "nbconvert_exporter": "python",
   "pygments_lexer": "ipython3",
   "version": "3.10.12"
  }
 },
 "nbformat": 4,
 "nbformat_minor": 5
}
