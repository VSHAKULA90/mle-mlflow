{
 "cells": [
  {
   "cell_type": "code",
   "execution_count": 19,
   "id": "b6e93e4b",
   "metadata": {},
   "outputs": [],
   "source": [
    "import os\n",
    "import joblib\n",
    "import numpy as np\n",
    "import pandas as pd\n",
    "import mlflow\n",
    "import boto3\n",
    "import mlflow.sklearn\n",
    "from pathlib import Path\n",
    "from mlflow.tracking import MlflowClient\n",
    "from mlflow.entities import ViewType\n",
    "from mlflow.exceptions import MlflowException\n",
    "from dotenv import load_dotenv\n",
    "from sklearn.metrics import (\n",
    "    roc_auc_score, f1_score, precision_score, recall_score,\n",
    "    confusion_matrix, log_loss\n",
    ")"
   ]
  },
  {
   "cell_type": "code",
   "execution_count": 20,
   "id": "918c3f04",
   "metadata": {},
   "outputs": [],
   "source": [
    "TRACKING_SERVER_HOST = \"127.0.0.1\"\n",
    "TRACKING_SERVER_PORT = 5000\n",
    "\n",
    "tracking_uri = f\"http://{TRACKING_SERVER_HOST}:{TRACKING_SERVER_PORT}\"\n",
    "registry_uri = f\"http://{TRACKING_SERVER_HOST}:{TRACKING_SERVER_PORT}\"\n",
    "\n",
    "client = mlflow.MlflowClient(tracking_uri=tracking_uri, registry_uri=registry_uri)"
   ]
  },
  {
   "cell_type": "code",
   "execution_count": 29,
   "id": "8a31ae8d",
   "metadata": {},
   "outputs": [
    {
     "name": "stdout",
     "output_type": "stream",
     "text": [
      "548588041841417201\n"
     ]
    }
   ],
   "source": [
    "EXPERIMENT_NAME = os.getenv('EXPERIMENT_NAME')\n",
    "\n",
    "experiment_id = mlflow.get_experiment_by_name(EXPERIMENT_NAME).experiment_id\n",
    "print(experiment_id)"
   ]
  },
  {
   "cell_type": "code",
   "execution_count": 48,
   "id": "0c89b69d",
   "metadata": {},
   "outputs": [
    {
     "name": "stdout",
     "output_type": "stream",
     "text": [
      "                             run_id       experiment_id    status   \n",
      "0  2b7d61e40b8c479eb5ce180e9cc02bb6  548588041841417201  FINISHED  \\\n",
      "1  5c29f724b94847dd9a1c4f3b5707aa20  548588041841417201  FINISHED   \n",
      "2  fef253a81e2142fea7b68d93889eff66  548588041841417201  FINISHED   \n",
      "3  75e96ee5b12e4bf79816d83f65f2eea7  548588041841417201  FINISHED   \n",
      "4  a7800744c6be4c6480c47c19c60a5715  548588041841417201  FINISHED   \n",
      "5  47aa14ef623e45a490a3d5236fcbaa75  548588041841417201  FINISHED   \n",
      "6  c1538cae1c984f1189696003c6956fc1  548588041841417201    FAILED   \n",
      "7  4ac72c692a0449abb091901853bde3f9  548588041841417201  FINISHED   \n",
      "\n",
      "                                        artifact_uri   \n",
      "0  file:///home/mle-user/mle_projects/mle-mlflow/...  \\\n",
      "1  file:///home/mle-user/mle_projects/mle-mlflow/...   \n",
      "2  file:///home/mle-user/mle_projects/mle-mlflow/...   \n",
      "3  file:///home/mle-user/mle_projects/mle-mlflow/...   \n",
      "4  file:///home/mle-user/mle_projects/mle-mlflow/...   \n",
      "5  file:///home/mle-user/mle_projects/mle-mlflow/...   \n",
      "6  file:///home/mle-user/mle_projects/mle-mlflow/...   \n",
      "7  file:///home/mle-user/mle_projects/mle-mlflow/...   \n",
      "\n",
      "                        start_time                         end_time   \n",
      "0 2025-08-29 16:31:09.037000+00:00 2025-08-29 16:31:09.050000+00:00  \\\n",
      "1 2025-08-29 16:16:26.956000+00:00 2025-08-29 16:16:26.993000+00:00   \n",
      "2 2025-08-29 16:14:41.309000+00:00 2025-08-29 16:14:41.355000+00:00   \n",
      "3 2025-08-29 15:48:45.776000+00:00 2025-08-29 15:48:45.797000+00:00   \n",
      "4 2025-08-29 15:33:09.882000+00:00 2025-08-29 15:33:09.894000+00:00   \n",
      "5 2025-08-29 14:32:31.448000+00:00 2025-08-29 14:32:31.466000+00:00   \n",
      "6 2025-08-29 14:32:13.771000+00:00 2025-08-29 14:32:13.781000+00:00   \n",
      "7 2025-08-29 14:26:31.531000+00:00 2025-08-29 14:26:31.548000+00:00   \n",
      "\n",
      "   metrics.total_charges_mean  metrics.end_date_nan   \n",
      "0                 2283.300441                5174.0  \\\n",
      "1                 2283.300441                5174.0   \n",
      "2                 2283.300441                5174.0   \n",
      "3                 2283.300441                5174.0   \n",
      "4                 2283.300441                5174.0   \n",
      "5                 2283.300441                5174.0   \n",
      "6                 2283.300441                5174.0   \n",
      "7                 2283.300441                5174.0   \n",
      "\n",
      "   metrics.monthly_charges_median  metrics.monthly_charges_max  ...   \n",
      "0                           70.35                       118.75  ...  \\\n",
      "1                           70.35                       118.75  ...   \n",
      "2                           70.35                       118.75  ...   \n",
      "3                           70.35                       118.75  ...   \n",
      "4                           70.35                       118.75  ...   \n",
      "5                           70.35                       118.75  ...   \n",
      "6                           70.35                       118.75  ...   \n",
      "7                           70.35                       118.75  ...   \n",
      "\n",
      "   metrics.monthly_charges_min  metrics.monthly_charges_mean   \n",
      "0                        18.25                     64.761692  \\\n",
      "1                        18.25                     64.761692   \n",
      "2                        18.25                     64.761692   \n",
      "3                        18.25                     64.761692   \n",
      "4                        18.25                     64.761692   \n",
      "5                        18.25                     64.761692   \n",
      "6                        18.25                     64.761692   \n",
      "7                        18.25                     64.761692   \n",
      "\n",
      "   metrics.total_charges_min  metrics.total_charges_median   \n",
      "0                       18.8                      1397.475  \\\n",
      "1                       18.8                      1397.475   \n",
      "2                       18.8                      1397.475   \n",
      "3                       18.8                      1397.475   \n",
      "4                       18.8                      1397.475   \n",
      "5                       18.8                      1397.475   \n",
      "6                       18.8                      1397.475   \n",
      "7                       18.8                      1397.475   \n",
      "\n",
      "   metrics.total_charges_max  metrics.unique_customers_number   \n",
      "0                     8684.8                           7043.0  \\\n",
      "1                     8684.8                           7043.0   \n",
      "2                     8684.8                           7043.0   \n",
      "3                     8684.8                           7043.0   \n",
      "4                     8684.8                           7043.0   \n",
      "5                     8684.8                           7043.0   \n",
      "6                     8684.8                           7043.0   \n",
      "7                     8684.8                           7043.0   \n",
      "\n",
      "                             tags.mlflow.source.name tags.mlflow.runName   \n",
      "0  /home/mle-user/.local/lib/python3.10/site-pack...  baseline_logreg_v1  \\\n",
      "1  /home/mle-user/.local/lib/python3.10/site-pack...  baseline_logreg_v1   \n",
      "2  /home/mle-user/.local/lib/python3.10/site-pack...  baseline_logreg_v1   \n",
      "3  /home/mle-user/.local/lib/python3.10/site-pack...  baseline_logreg_v1   \n",
      "4  /home/mle-user/.local/lib/python3.10/site-pack...  baseline_logreg_v1   \n",
      "5  /home/mle-user/.local/lib/python3.10/site-pack...  baseline_logreg_v1   \n",
      "6  /home/mle-user/.local/lib/python3.10/site-pack...  baseline_logreg_v1   \n",
      "7  /home/mle-user/.local/lib/python3.10/site-pack...  baseline_logreg_v1   \n",
      "\n",
      "  tags.mlflow.user tags.mlflow.source.type  \n",
      "0         mle-user                   LOCAL  \n",
      "1         mle-user                   LOCAL  \n",
      "2         mle-user                   LOCAL  \n",
      "3         mle-user                   LOCAL  \n",
      "4         mle-user                   LOCAL  \n",
      "5         mle-user                   LOCAL  \n",
      "6         mle-user                   LOCAL  \n",
      "7         mle-user                   LOCAL  \n",
      "\n",
      "[8 rows x 21 columns]\n"
     ]
    }
   ],
   "source": [
    "experiment_runs = mlflow.search_runs(\n",
    "    experiment_ids=[experiment_id],\n",
    ").sort_values(by=\"start_time\", ascending=False) \n",
    "print(experiment_runs)"
   ]
  },
  {
   "cell_type": "code",
   "execution_count": 23,
   "id": "d8c6f8ad",
   "metadata": {},
   "outputs": [
    {
     "name": "stdout",
     "output_type": "stream",
     "text": [
      "<class 'pandas.core.frame.DataFrame'>\n",
      "RangeIndex: 8 entries, 0 to 7\n",
      "Data columns (total 21 columns):\n",
      " #   Column                           Non-Null Count  Dtype              \n",
      "---  ------                           --------------  -----              \n",
      " 0   run_id                           8 non-null      object             \n",
      " 1   experiment_id                    8 non-null      object             \n",
      " 2   status                           8 non-null      object             \n",
      " 3   artifact_uri                     8 non-null      object             \n",
      " 4   start_time                       8 non-null      datetime64[ns, UTC]\n",
      " 5   end_time                         8 non-null      datetime64[ns, UTC]\n",
      " 6   metrics.total_charges_mean       8 non-null      float64            \n",
      " 7   metrics.end_date_nan             8 non-null      float64            \n",
      " 8   metrics.monthly_charges_median   8 non-null      float64            \n",
      " 9   metrics.monthly_charges_max      8 non-null      float64            \n",
      " 10  metrics.data_length              8 non-null      float64            \n",
      " 11  metrics.monthly_charges_min      8 non-null      float64            \n",
      " 12  metrics.monthly_charges_mean     8 non-null      float64            \n",
      " 13  metrics.total_charges_min        8 non-null      float64            \n",
      " 14  metrics.total_charges_median     8 non-null      float64            \n",
      " 15  metrics.total_charges_max        8 non-null      float64            \n",
      " 16  metrics.unique_customers_number  8 non-null      float64            \n",
      " 17  tags.mlflow.source.name          8 non-null      object             \n",
      " 18  tags.mlflow.runName              8 non-null      object             \n",
      " 19  tags.mlflow.user                 8 non-null      object             \n",
      " 20  tags.mlflow.source.type          8 non-null      object             \n",
      "dtypes: datetime64[ns, UTC](2), float64(11), object(8)\n",
      "memory usage: 1.4+ KB\n"
     ]
    }
   ],
   "source": [
    "experiment_runs.info()"
   ]
  },
  {
   "cell_type": "code",
   "execution_count": 24,
   "id": "196abb09",
   "metadata": {},
   "outputs": [
    {
     "ename": "KeyError",
     "evalue": "\"['metrics.err1', 'metrics.err2', 'metrics.logloss', 'metrics.recall', 'metrics.auc', 'metrics.f1', 'metrics.precision'] not in index\"",
     "output_type": "error",
     "traceback": [
      "\u001b[0;31m---------------------------------------------------------------------------\u001b[0m",
      "\u001b[0;31mKeyError\u001b[0m                                  Traceback (most recent call last)",
      "Cell \u001b[0;32mIn[24], line 1\u001b[0m\n\u001b[0;32m----> 1\u001b[0m runs \u001b[38;5;241m=\u001b[39m \u001b[43mexperiment_runs\u001b[49m\u001b[43m[\u001b[49m\u001b[43m[\u001b[49m\n\u001b[1;32m      2\u001b[0m \u001b[43m    \u001b[49m\u001b[38;5;124;43m\"\u001b[39;49m\u001b[38;5;124;43mrun_id\u001b[39;49m\u001b[38;5;124;43m\"\u001b[39;49m\u001b[43m,\u001b[49m\u001b[43m \u001b[49m\n\u001b[1;32m      3\u001b[0m \u001b[43m    \u001b[49m\u001b[38;5;124;43m\"\u001b[39;49m\u001b[38;5;124;43mstart_time\u001b[39;49m\u001b[38;5;124;43m\"\u001b[39;49m\u001b[43m,\u001b[49m\u001b[43m \u001b[49m\n\u001b[1;32m      4\u001b[0m \u001b[43m    \u001b[49m\u001b[38;5;124;43m\"\u001b[39;49m\u001b[38;5;124;43mmetrics.err1\u001b[39;49m\u001b[38;5;124;43m\"\u001b[39;49m\u001b[43m,\u001b[49m\u001b[43m \u001b[49m\n\u001b[1;32m      5\u001b[0m \u001b[43m    \u001b[49m\u001b[38;5;124;43m\"\u001b[39;49m\u001b[38;5;124;43mmetrics.err2\u001b[39;49m\u001b[38;5;124;43m\"\u001b[39;49m\u001b[43m,\u001b[49m\u001b[43m \u001b[49m\n\u001b[1;32m      6\u001b[0m \u001b[43m    \u001b[49m\u001b[38;5;124;43m\"\u001b[39;49m\u001b[38;5;124;43mmetrics.logloss\u001b[39;49m\u001b[38;5;124;43m\"\u001b[39;49m\u001b[43m,\u001b[49m\u001b[43m \u001b[49m\n\u001b[1;32m      7\u001b[0m \u001b[43m    \u001b[49m\u001b[38;5;124;43m\"\u001b[39;49m\u001b[38;5;124;43mmetrics.recall\u001b[39;49m\u001b[38;5;124;43m\"\u001b[39;49m\u001b[43m,\u001b[49m\u001b[43m \u001b[49m\n\u001b[1;32m      8\u001b[0m \u001b[43m    \u001b[49m\u001b[38;5;124;43m\"\u001b[39;49m\u001b[38;5;124;43mmetrics.auc\u001b[39;49m\u001b[38;5;124;43m\"\u001b[39;49m\u001b[43m,\u001b[49m\u001b[43m \u001b[49m\n\u001b[1;32m      9\u001b[0m \u001b[43m    \u001b[49m\u001b[38;5;124;43m\"\u001b[39;49m\u001b[38;5;124;43mmetrics.f1\u001b[39;49m\u001b[38;5;124;43m\"\u001b[39;49m\u001b[43m,\u001b[49m\u001b[43m \u001b[49m\n\u001b[1;32m     10\u001b[0m \u001b[43m    \u001b[49m\u001b[38;5;124;43m\"\u001b[39;49m\u001b[38;5;124;43mmetrics.precision\u001b[39;49m\u001b[38;5;124;43m\"\u001b[39;49m\n\u001b[1;32m     11\u001b[0m \u001b[43m]\u001b[49m\u001b[43m]\u001b[49m\n",
      "File \u001b[0;32m~/.local/lib/python3.10/site-packages/pandas/core/frame.py:3767\u001b[0m, in \u001b[0;36mDataFrame.__getitem__\u001b[0;34m(self, key)\u001b[0m\n\u001b[1;32m   3765\u001b[0m     \u001b[38;5;28;01mif\u001b[39;00m is_iterator(key):\n\u001b[1;32m   3766\u001b[0m         key \u001b[38;5;241m=\u001b[39m \u001b[38;5;28mlist\u001b[39m(key)\n\u001b[0;32m-> 3767\u001b[0m     indexer \u001b[38;5;241m=\u001b[39m \u001b[38;5;28;43mself\u001b[39;49m\u001b[38;5;241;43m.\u001b[39;49m\u001b[43mcolumns\u001b[49m\u001b[38;5;241;43m.\u001b[39;49m\u001b[43m_get_indexer_strict\u001b[49m\u001b[43m(\u001b[49m\u001b[43mkey\u001b[49m\u001b[43m,\u001b[49m\u001b[43m \u001b[49m\u001b[38;5;124;43m\"\u001b[39;49m\u001b[38;5;124;43mcolumns\u001b[39;49m\u001b[38;5;124;43m\"\u001b[39;49m\u001b[43m)\u001b[49m[\u001b[38;5;241m1\u001b[39m]\n\u001b[1;32m   3769\u001b[0m \u001b[38;5;66;03m# take() does not accept boolean indexers\u001b[39;00m\n\u001b[1;32m   3770\u001b[0m \u001b[38;5;28;01mif\u001b[39;00m \u001b[38;5;28mgetattr\u001b[39m(indexer, \u001b[38;5;124m\"\u001b[39m\u001b[38;5;124mdtype\u001b[39m\u001b[38;5;124m\"\u001b[39m, \u001b[38;5;28;01mNone\u001b[39;00m) \u001b[38;5;241m==\u001b[39m \u001b[38;5;28mbool\u001b[39m:\n",
      "File \u001b[0;32m~/.local/lib/python3.10/site-packages/pandas/core/indexes/base.py:5876\u001b[0m, in \u001b[0;36mIndex._get_indexer_strict\u001b[0;34m(self, key, axis_name)\u001b[0m\n\u001b[1;32m   5873\u001b[0m \u001b[38;5;28;01melse\u001b[39;00m:\n\u001b[1;32m   5874\u001b[0m     keyarr, indexer, new_indexer \u001b[38;5;241m=\u001b[39m \u001b[38;5;28mself\u001b[39m\u001b[38;5;241m.\u001b[39m_reindex_non_unique(keyarr)\n\u001b[0;32m-> 5876\u001b[0m \u001b[38;5;28;43mself\u001b[39;49m\u001b[38;5;241;43m.\u001b[39;49m\u001b[43m_raise_if_missing\u001b[49m\u001b[43m(\u001b[49m\u001b[43mkeyarr\u001b[49m\u001b[43m,\u001b[49m\u001b[43m \u001b[49m\u001b[43mindexer\u001b[49m\u001b[43m,\u001b[49m\u001b[43m \u001b[49m\u001b[43maxis_name\u001b[49m\u001b[43m)\u001b[49m\n\u001b[1;32m   5878\u001b[0m keyarr \u001b[38;5;241m=\u001b[39m \u001b[38;5;28mself\u001b[39m\u001b[38;5;241m.\u001b[39mtake(indexer)\n\u001b[1;32m   5879\u001b[0m \u001b[38;5;28;01mif\u001b[39;00m \u001b[38;5;28misinstance\u001b[39m(key, Index):\n\u001b[1;32m   5880\u001b[0m     \u001b[38;5;66;03m# GH 42790 - Preserve name from an Index\u001b[39;00m\n",
      "File \u001b[0;32m~/.local/lib/python3.10/site-packages/pandas/core/indexes/base.py:5938\u001b[0m, in \u001b[0;36mIndex._raise_if_missing\u001b[0;34m(self, key, indexer, axis_name)\u001b[0m\n\u001b[1;32m   5935\u001b[0m     \u001b[38;5;28;01mraise\u001b[39;00m \u001b[38;5;167;01mKeyError\u001b[39;00m(\u001b[38;5;124mf\u001b[39m\u001b[38;5;124m\"\u001b[39m\u001b[38;5;124mNone of [\u001b[39m\u001b[38;5;132;01m{\u001b[39;00mkey\u001b[38;5;132;01m}\u001b[39;00m\u001b[38;5;124m] are in the [\u001b[39m\u001b[38;5;132;01m{\u001b[39;00maxis_name\u001b[38;5;132;01m}\u001b[39;00m\u001b[38;5;124m]\u001b[39m\u001b[38;5;124m\"\u001b[39m)\n\u001b[1;32m   5937\u001b[0m not_found \u001b[38;5;241m=\u001b[39m \u001b[38;5;28mlist\u001b[39m(ensure_index(key)[missing_mask\u001b[38;5;241m.\u001b[39mnonzero()[\u001b[38;5;241m0\u001b[39m]]\u001b[38;5;241m.\u001b[39munique())\n\u001b[0;32m-> 5938\u001b[0m \u001b[38;5;28;01mraise\u001b[39;00m \u001b[38;5;167;01mKeyError\u001b[39;00m(\u001b[38;5;124mf\u001b[39m\u001b[38;5;124m\"\u001b[39m\u001b[38;5;132;01m{\u001b[39;00mnot_found\u001b[38;5;132;01m}\u001b[39;00m\u001b[38;5;124m not in index\u001b[39m\u001b[38;5;124m\"\u001b[39m)\n",
      "\u001b[0;31mKeyError\u001b[0m: \"['metrics.err1', 'metrics.err2', 'metrics.logloss', 'metrics.recall', 'metrics.auc', 'metrics.f1', 'metrics.precision'] not in index\""
     ]
    }
   ],
   "source": [
    "runs = experiment_runs[[\n",
    "    \"run_id\", \n",
    "    \"start_time\", \n",
    "    \"metrics.err1\", \n",
    "    \"metrics.err2\", \n",
    "    \"metrics.logloss\", \n",
    "    \"metrics.recall\", \n",
    "    \"metrics.auc\", \n",
    "    \"metrics.f1\", \n",
    "    \"metrics.precision\"\n",
    "]]"
   ]
  },
  {
   "cell_type": "code",
   "execution_count": 27,
   "id": "ac176a5e",
   "metadata": {},
   "outputs": [
    {
     "name": "stdout",
     "output_type": "stream",
     "text": [
      "[<Metric: key='logloss', step=0, timestamp=1756651249525, value=0.15596488537618183>]\n"
     ]
    }
   ],
   "source": [
    "# фиксируем интересующий запуск (run_id) и метрику\n",
    "run_id = \"90e7f8d96c234294a6cd521d6d356331\"\n",
    "metric = \"logloss\"\n",
    "\n",
    "print(client.get_metric_history(run_id, metric))"
   ]
  },
  {
   "cell_type": "code",
   "execution_count": null,
   "id": "d9d438f2",
   "metadata": {},
   "outputs": [],
   "source": [
    "#[<Metric: key='logloss', step=0, timestamp=1697722260419, value=7.3417519678329475>]"
   ]
  },
  {
   "cell_type": "code",
   "execution_count": 28,
   "id": "32e93232",
   "metadata": {},
   "outputs": [
    {
     "data": {
      "text/plain": [
       "{'auc': 0.9687619453769603,\n",
       " 'precision': 0.9565217391304348,\n",
       " 'recall': 0.8257372654155496,\n",
       " 'f1': 0.8863309352517986,\n",
       " 'err1': 14.0,\n",
       " 'err2': 65.0,\n",
       " 'err1_rate': 0.009971509971509971,\n",
       " 'err2_rate': 0.046296296296296294,\n",
       " 'logloss': 0.15596488537618183}"
      ]
     },
     "execution_count": 28,
     "metadata": {},
     "output_type": "execute_result"
    }
   ],
   "source": [
    "client.get_run(run_id).data.metrics"
   ]
  },
  {
   "cell_type": "code",
   "execution_count": null,
   "id": "ed659e42",
   "metadata": {},
   "outputs": [],
   "source": [
    "# {'err1': 0.057487579843860895,\n",
    "# 'err2': 0.1242015613910575,\n",
    "# 'auc': 0.8255639980800066,\n",
    "# 'precision': 0.68359375,\n",
    "# 'recall': 0.45931758530183725,\n",
    "# 'f1': 0.5494505494505495,\n",
    "# 'logloss': 7.3417519678329475} "
   ]
  },
  {
   "cell_type": "code",
   "execution_count": 31,
   "id": "5ebe1231",
   "metadata": {},
   "outputs": [
    {
     "name": "stdout",
     "output_type": "stream",
     "text": [
      "Путь артефакта в S3: 's3://s3-student-mle-20250802-8a8f1a1def-freetrack/5/90e7f8d96c234294a6cd521d6d356331/artifacts'\n"
     ]
    }
   ],
   "source": [
    "run = client.get_run(run_id)\n",
    "artifact_uri = run.info.artifact_uri\n",
    "\n",
    "print(f\"Путь артефакта в S3: '{artifact_uri}'\")"
   ]
  },
  {
   "cell_type": "code",
   "execution_count": 32,
   "id": "22a4b0a3",
   "metadata": {},
   "outputs": [
    {
     "data": {
      "application/vnd.jupyter.widget-view+json": {
       "model_id": "5561cdb8b49643bd989ad37f9d934b6d",
       "version_major": 2,
       "version_minor": 0
      },
      "text/plain": [
       "Downloading artifacts:   0%|          | 0/8 [00:00<?, ?it/s]"
      ]
     },
     "metadata": {},
     "output_type": "display_data"
    },
    {
     "data": {
      "text/plain": [
       "'/home/mle-user/mle_projects/mle-mlflow/artifacts_local/artifacts'"
      ]
     },
     "execution_count": 32,
     "metadata": {},
     "output_type": "execute_result"
    }
   ],
   "source": [
    "mlflow.artifacts.download_artifacts(artifact_uri, dst_path=\"./artifacts_local\")"
   ]
  },
  {
   "cell_type": "code",
   "execution_count": 47,
   "id": "2b76c44a",
   "metadata": {},
   "outputs": [
    {
     "ename": "MlflowException",
     "evalue": "Registered Model with name=churn_model_vadimshakula_b2c not found",
     "output_type": "error",
     "traceback": [
      "\u001b[0;31m---------------------------------------------------------------------------\u001b[0m",
      "\u001b[0;31mMlflowException\u001b[0m                           Traceback (most recent call last)",
      "Cell \u001b[0;32mIn[47], line 5\u001b[0m\n\u001b[1;32m      2\u001b[0m REGISTRY_MODEL_VERSION \u001b[38;5;241m=\u001b[39m \u001b[38;5;124m\"\u001b[39m\u001b[38;5;124m1\u001b[39m\u001b[38;5;124m\"\u001b[39m\n\u001b[1;32m      4\u001b[0m model_uri \u001b[38;5;241m=\u001b[39m \u001b[38;5;124mf\u001b[39m\u001b[38;5;124m\"\u001b[39m\u001b[38;5;124mmodels:/\u001b[39m\u001b[38;5;132;01m{\u001b[39;00mREGISTRY_MODEL_NAME\u001b[38;5;132;01m}\u001b[39;00m\u001b[38;5;124m/\u001b[39m\u001b[38;5;132;01m{\u001b[39;00mREGISTRY_MODEL_VERSION\u001b[38;5;132;01m}\u001b[39;00m\u001b[38;5;124m\"\u001b[39m\n\u001b[0;32m----> 5\u001b[0m model \u001b[38;5;241m=\u001b[39m \u001b[43mmlflow\u001b[49m\u001b[38;5;241;43m.\u001b[39;49m\u001b[43mpyfunc\u001b[49m\u001b[38;5;241;43m.\u001b[39;49m\u001b[43mload_model\u001b[49m\u001b[43m(\u001b[49m\u001b[43mmodel_uri\u001b[49m\u001b[43m)\u001b[49m        \u001b[38;5;66;03m# работает для любого flavor\u001b[39;00m\n\u001b[1;32m      6\u001b[0m \u001b[38;5;66;03m# preds = model.predict(X_test)  # пример инференса\u001b[39;00m\n",
      "File \u001b[0;32m~/.local/lib/python3.10/site-packages/mlflow/pyfunc/__init__.py:617\u001b[0m, in \u001b[0;36mload_model\u001b[0;34m(model_uri, suppress_warnings, dst_path)\u001b[0m\n\u001b[1;32m    589\u001b[0m \u001b[38;5;28;01mdef\u001b[39;00m \u001b[38;5;21mload_model\u001b[39m(\n\u001b[1;32m    590\u001b[0m     model_uri: \u001b[38;5;28mstr\u001b[39m,\n\u001b[1;32m    591\u001b[0m     suppress_warnings: \u001b[38;5;28mbool\u001b[39m \u001b[38;5;241m=\u001b[39m \u001b[38;5;28;01mFalse\u001b[39;00m,\n\u001b[1;32m    592\u001b[0m     dst_path: \u001b[38;5;28mstr\u001b[39m \u001b[38;5;241m=\u001b[39m \u001b[38;5;28;01mNone\u001b[39;00m,\n\u001b[1;32m    593\u001b[0m ) \u001b[38;5;241m-\u001b[39m\u001b[38;5;241m>\u001b[39m PyFuncModel:\n\u001b[1;32m    594\u001b[0m \u001b[38;5;250m    \u001b[39m\u001b[38;5;124;03m\"\"\"\u001b[39;00m\n\u001b[1;32m    595\u001b[0m \u001b[38;5;124;03m    Load a model stored in Python function format.\u001b[39;00m\n\u001b[1;32m    596\u001b[0m \n\u001b[0;32m   (...)\u001b[0m\n\u001b[1;32m    615\u001b[0m \u001b[38;5;124;03m                     path will be created.\u001b[39;00m\n\u001b[1;32m    616\u001b[0m \u001b[38;5;124;03m    \"\"\"\u001b[39;00m\n\u001b[0;32m--> 617\u001b[0m     local_path \u001b[38;5;241m=\u001b[39m \u001b[43m_download_artifact_from_uri\u001b[49m\u001b[43m(\u001b[49m\u001b[43martifact_uri\u001b[49m\u001b[38;5;241;43m=\u001b[39;49m\u001b[43mmodel_uri\u001b[49m\u001b[43m,\u001b[49m\u001b[43m \u001b[49m\u001b[43moutput_path\u001b[49m\u001b[38;5;241;43m=\u001b[39;49m\u001b[43mdst_path\u001b[49m\u001b[43m)\u001b[49m\n\u001b[1;32m    619\u001b[0m     \u001b[38;5;28;01mif\u001b[39;00m \u001b[38;5;129;01mnot\u001b[39;00m suppress_warnings:\n\u001b[1;32m    620\u001b[0m         _warn_dependency_requirement_mismatches(local_path)\n",
      "File \u001b[0;32m~/.local/lib/python3.10/site-packages/mlflow/tracking/artifact_utils.py:100\u001b[0m, in \u001b[0;36m_download_artifact_from_uri\u001b[0;34m(artifact_uri, output_path)\u001b[0m\n\u001b[1;32m     94\u001b[0m \u001b[38;5;250m\u001b[39m\u001b[38;5;124;03m\"\"\"\u001b[39;00m\n\u001b[1;32m     95\u001b[0m \u001b[38;5;124;03m:param artifact_uri: The *absolute* URI of the artifact to download.\u001b[39;00m\n\u001b[1;32m     96\u001b[0m \u001b[38;5;124;03m:param output_path: The local filesystem path to which to download the artifact. If unspecified,\u001b[39;00m\n\u001b[1;32m     97\u001b[0m \u001b[38;5;124;03m                    a local output path will be created.\u001b[39;00m\n\u001b[1;32m     98\u001b[0m \u001b[38;5;124;03m\"\"\"\u001b[39;00m\n\u001b[1;32m     99\u001b[0m root_uri, artifact_path \u001b[38;5;241m=\u001b[39m _get_root_uri_and_artifact_path(artifact_uri)\n\u001b[0;32m--> 100\u001b[0m \u001b[38;5;28;01mreturn\u001b[39;00m \u001b[43mget_artifact_repository\u001b[49m\u001b[43m(\u001b[49m\u001b[43martifact_uri\u001b[49m\u001b[38;5;241;43m=\u001b[39;49m\u001b[43mroot_uri\u001b[49m\u001b[43m)\u001b[49m\u001b[38;5;241m.\u001b[39mdownload_artifacts(\n\u001b[1;32m    101\u001b[0m     artifact_path\u001b[38;5;241m=\u001b[39martifact_path, dst_path\u001b[38;5;241m=\u001b[39moutput_path\n\u001b[1;32m    102\u001b[0m )\n",
      "File \u001b[0;32m~/.local/lib/python3.10/site-packages/mlflow/store/artifact/artifact_repository_registry.py:115\u001b[0m, in \u001b[0;36mget_artifact_repository\u001b[0;34m(artifact_uri)\u001b[0m\n\u001b[1;32m    105\u001b[0m \u001b[38;5;28;01mdef\u001b[39;00m \u001b[38;5;21mget_artifact_repository\u001b[39m(artifact_uri):\n\u001b[1;32m    106\u001b[0m \u001b[38;5;250m    \u001b[39m\u001b[38;5;124;03m\"\"\"Get an artifact repository from the registry based on the scheme of artifact_uri\u001b[39;00m\n\u001b[1;32m    107\u001b[0m \n\u001b[1;32m    108\u001b[0m \u001b[38;5;124;03m    :param artifact_uri: The artifact store URI. This URI is used to select which artifact\u001b[39;00m\n\u001b[0;32m   (...)\u001b[0m\n\u001b[1;32m    113\u001b[0m \u001b[38;5;124;03m             requirements.\u001b[39;00m\n\u001b[1;32m    114\u001b[0m \u001b[38;5;124;03m    \"\"\"\u001b[39;00m\n\u001b[0;32m--> 115\u001b[0m     \u001b[38;5;28;01mreturn\u001b[39;00m \u001b[43m_artifact_repository_registry\u001b[49m\u001b[38;5;241;43m.\u001b[39;49m\u001b[43mget_artifact_repository\u001b[49m\u001b[43m(\u001b[49m\u001b[43martifact_uri\u001b[49m\u001b[43m)\u001b[49m\n",
      "File \u001b[0;32m~/.local/lib/python3.10/site-packages/mlflow/store/artifact/artifact_repository_registry.py:72\u001b[0m, in \u001b[0;36mArtifactRepositoryRegistry.get_artifact_repository\u001b[0;34m(self, artifact_uri)\u001b[0m\n\u001b[1;32m     67\u001b[0m \u001b[38;5;28;01mif\u001b[39;00m repository \u001b[38;5;129;01mis\u001b[39;00m \u001b[38;5;28;01mNone\u001b[39;00m:\n\u001b[1;32m     68\u001b[0m     \u001b[38;5;28;01mraise\u001b[39;00m MlflowException(\n\u001b[1;32m     69\u001b[0m         \u001b[38;5;124mf\u001b[39m\u001b[38;5;124m\"\u001b[39m\u001b[38;5;124mCould not find a registered artifact repository for: \u001b[39m\u001b[38;5;132;01m{\u001b[39;00martifact_uri\u001b[38;5;132;01m}\u001b[39;00m\u001b[38;5;124m. \u001b[39m\u001b[38;5;124m\"\u001b[39m\n\u001b[1;32m     70\u001b[0m         \u001b[38;5;124mf\u001b[39m\u001b[38;5;124m\"\u001b[39m\u001b[38;5;124mCurrently registered schemes are: \u001b[39m\u001b[38;5;132;01m{\u001b[39;00m\u001b[38;5;28mlist\u001b[39m(\u001b[38;5;28mself\u001b[39m\u001b[38;5;241m.\u001b[39m_registry\u001b[38;5;241m.\u001b[39mkeys())\u001b[38;5;132;01m}\u001b[39;00m\u001b[38;5;124m\"\u001b[39m\n\u001b[1;32m     71\u001b[0m     )\n\u001b[0;32m---> 72\u001b[0m \u001b[38;5;28;01mreturn\u001b[39;00m \u001b[43mrepository\u001b[49m\u001b[43m(\u001b[49m\u001b[43martifact_uri\u001b[49m\u001b[43m)\u001b[49m\n",
      "File \u001b[0;32m~/.local/lib/python3.10/site-packages/mlflow/store/artifact/models_artifact_repo.py:44\u001b[0m, in \u001b[0;36mModelsArtifactRepository.__init__\u001b[0;34m(self, artifact_uri)\u001b[0m\n\u001b[1;32m     42\u001b[0m     \u001b[38;5;28mself\u001b[39m\u001b[38;5;241m.\u001b[39mrepo \u001b[38;5;241m=\u001b[39m DatabricksModelsArtifactRepository(artifact_uri)\n\u001b[1;32m     43\u001b[0m \u001b[38;5;28;01melse\u001b[39;00m:\n\u001b[0;32m---> 44\u001b[0m     uri \u001b[38;5;241m=\u001b[39m \u001b[43mModelsArtifactRepository\u001b[49m\u001b[38;5;241;43m.\u001b[39;49m\u001b[43mget_underlying_uri\u001b[49m\u001b[43m(\u001b[49m\u001b[43martifact_uri\u001b[49m\u001b[43m)\u001b[49m\n\u001b[1;32m     45\u001b[0m     \u001b[38;5;28mself\u001b[39m\u001b[38;5;241m.\u001b[39mrepo \u001b[38;5;241m=\u001b[39m get_artifact_repository(uri)\n",
      "File \u001b[0;32m~/.local/lib/python3.10/site-packages/mlflow/store/artifact/models_artifact_repo.py:79\u001b[0m, in \u001b[0;36mModelsArtifactRepository.get_underlying_uri\u001b[0;34m(uri)\u001b[0m\n\u001b[1;32m     77\u001b[0m client \u001b[38;5;241m=\u001b[39m MlflowClient(registry_uri\u001b[38;5;241m=\u001b[39mdatabricks_profile_uri)\n\u001b[1;32m     78\u001b[0m (name, version) \u001b[38;5;241m=\u001b[39m get_model_name_and_version(client, uri)\n\u001b[0;32m---> 79\u001b[0m download_uri \u001b[38;5;241m=\u001b[39m \u001b[43mclient\u001b[49m\u001b[38;5;241;43m.\u001b[39;49m\u001b[43mget_model_version_download_uri\u001b[49m\u001b[43m(\u001b[49m\u001b[43mname\u001b[49m\u001b[43m,\u001b[49m\u001b[43m \u001b[49m\u001b[43mversion\u001b[49m\u001b[43m)\u001b[49m\n\u001b[1;32m     80\u001b[0m \u001b[38;5;28;01mreturn\u001b[39;00m add_databricks_profile_info_to_artifact_uri(download_uri, databricks_profile_uri)\n",
      "File \u001b[0;32m~/.local/lib/python3.10/site-packages/mlflow/tracking/client.py:3007\u001b[0m, in \u001b[0;36mMlflowClient.get_model_version_download_uri\u001b[0;34m(self, name, version)\u001b[0m\n\u001b[1;32m   2963\u001b[0m \u001b[38;5;28;01mdef\u001b[39;00m \u001b[38;5;21mget_model_version_download_uri\u001b[39m(\u001b[38;5;28mself\u001b[39m, name: \u001b[38;5;28mstr\u001b[39m, version: \u001b[38;5;28mstr\u001b[39m) \u001b[38;5;241m-\u001b[39m\u001b[38;5;241m>\u001b[39m \u001b[38;5;28mstr\u001b[39m:\n\u001b[1;32m   2964\u001b[0m \u001b[38;5;250m    \u001b[39m\u001b[38;5;124;03m\"\"\"\u001b[39;00m\n\u001b[1;32m   2965\u001b[0m \u001b[38;5;124;03m    Get the download location in Model Registry for this model version.\u001b[39;00m\n\u001b[1;32m   2966\u001b[0m \n\u001b[0;32m   (...)\u001b[0m\n\u001b[1;32m   3005\u001b[0m \u001b[38;5;124;03m        Download URI: runs:/027d7bbe81924c5a82b3e4ce979fcab7/sklearn-model\u001b[39;00m\n\u001b[1;32m   3006\u001b[0m \u001b[38;5;124;03m    \"\"\"\u001b[39;00m\n\u001b[0;32m-> 3007\u001b[0m     \u001b[38;5;28;01mreturn\u001b[39;00m \u001b[38;5;28;43mself\u001b[39;49m\u001b[38;5;241;43m.\u001b[39;49m\u001b[43m_get_registry_client\u001b[49m\u001b[43m(\u001b[49m\u001b[43m)\u001b[49m\u001b[38;5;241;43m.\u001b[39;49m\u001b[43mget_model_version_download_uri\u001b[49m\u001b[43m(\u001b[49m\u001b[43mname\u001b[49m\u001b[43m,\u001b[49m\u001b[43m \u001b[49m\u001b[43mversion\u001b[49m\u001b[43m)\u001b[49m\n",
      "File \u001b[0;32m~/.local/lib/python3.10/site-packages/mlflow/tracking/_model_registry/client.py:289\u001b[0m, in \u001b[0;36mModelRegistryClient.get_model_version_download_uri\u001b[0;34m(self, name, version)\u001b[0m\n\u001b[1;32m    281\u001b[0m \u001b[38;5;28;01mdef\u001b[39;00m \u001b[38;5;21mget_model_version_download_uri\u001b[39m(\u001b[38;5;28mself\u001b[39m, name, version):\n\u001b[1;32m    282\u001b[0m \u001b[38;5;250m    \u001b[39m\u001b[38;5;124;03m\"\"\"\u001b[39;00m\n\u001b[1;32m    283\u001b[0m \u001b[38;5;124;03m    Get the download location in Model Registry for this model version.\u001b[39;00m\n\u001b[1;32m    284\u001b[0m \n\u001b[0;32m   (...)\u001b[0m\n\u001b[1;32m    287\u001b[0m \u001b[38;5;124;03m    :return: A single URI location that allows reads for downloading.\u001b[39;00m\n\u001b[1;32m    288\u001b[0m \u001b[38;5;124;03m    \"\"\"\u001b[39;00m\n\u001b[0;32m--> 289\u001b[0m     \u001b[38;5;28;01mreturn\u001b[39;00m \u001b[38;5;28;43mself\u001b[39;49m\u001b[38;5;241;43m.\u001b[39;49m\u001b[43mstore\u001b[49m\u001b[38;5;241;43m.\u001b[39;49m\u001b[43mget_model_version_download_uri\u001b[49m\u001b[43m(\u001b[49m\u001b[43mname\u001b[49m\u001b[43m,\u001b[49m\u001b[43m \u001b[49m\u001b[43mversion\u001b[49m\u001b[43m)\u001b[49m\n",
      "File \u001b[0;32m~/.local/lib/python3.10/site-packages/mlflow/store/model_registry/file_store.py:716\u001b[0m, in \u001b[0;36mFileStore.get_model_version_download_uri\u001b[0;34m(self, name, version)\u001b[0m\n\u001b[1;32m    706\u001b[0m \u001b[38;5;28;01mdef\u001b[39;00m \u001b[38;5;21mget_model_version_download_uri\u001b[39m(\u001b[38;5;28mself\u001b[39m, name, version):\n\u001b[1;32m    707\u001b[0m \u001b[38;5;250m    \u001b[39m\u001b[38;5;124;03m\"\"\"\u001b[39;00m\n\u001b[1;32m    708\u001b[0m \u001b[38;5;124;03m    Get the download location in Model Registry for this model version.\u001b[39;00m\n\u001b[1;32m    709\u001b[0m \u001b[38;5;124;03m    NOTE: For first version of Model Registry, since the models are not copied over to another\u001b[39;00m\n\u001b[0;32m   (...)\u001b[0m\n\u001b[1;32m    714\u001b[0m \u001b[38;5;124;03m    :return: A single URI location that allows reads for downloading.\u001b[39;00m\n\u001b[1;32m    715\u001b[0m \u001b[38;5;124;03m    \"\"\"\u001b[39;00m\n\u001b[0;32m--> 716\u001b[0m     model_version \u001b[38;5;241m=\u001b[39m \u001b[38;5;28;43mself\u001b[39;49m\u001b[38;5;241;43m.\u001b[39;49m\u001b[43mget_model_version\u001b[49m\u001b[43m(\u001b[49m\u001b[43mname\u001b[49m\u001b[43m,\u001b[49m\u001b[43m \u001b[49m\u001b[43mversion\u001b[49m\u001b[43m)\u001b[49m\n\u001b[1;32m    717\u001b[0m     \u001b[38;5;28;01mreturn\u001b[39;00m model_version\u001b[38;5;241m.\u001b[39msource\n",
      "File \u001b[0;32m~/.local/lib/python3.10/site-packages/mlflow/store/model_registry/file_store.py:704\u001b[0m, in \u001b[0;36mFileStore.get_model_version\u001b[0;34m(self, name, version)\u001b[0m\n\u001b[1;32m    702\u001b[0m _validate_model_name(name)\n\u001b[1;32m    703\u001b[0m _validate_model_version(version)\n\u001b[0;32m--> 704\u001b[0m \u001b[38;5;28;01mreturn\u001b[39;00m \u001b[38;5;28;43mself\u001b[39;49m\u001b[38;5;241;43m.\u001b[39;49m\u001b[43m_fetch_model_version_if_exists\u001b[49m\u001b[43m(\u001b[49m\u001b[43mname\u001b[49m\u001b[43m,\u001b[49m\u001b[43m \u001b[49m\u001b[43mversion\u001b[49m\u001b[43m)\u001b[49m\n",
      "File \u001b[0;32m~/.local/lib/python3.10/site-packages/mlflow/store/model_registry/file_store.py:680\u001b[0m, in \u001b[0;36mFileStore._fetch_model_version_if_exists\u001b[0;34m(self, name, version)\u001b[0m\n\u001b[1;32m    679\u001b[0m \u001b[38;5;28;01mdef\u001b[39;00m \u001b[38;5;21m_fetch_model_version_if_exists\u001b[39m(\u001b[38;5;28mself\u001b[39m, name, version):\n\u001b[0;32m--> 680\u001b[0m     registered_model_version_dir \u001b[38;5;241m=\u001b[39m \u001b[38;5;28;43mself\u001b[39;49m\u001b[38;5;241;43m.\u001b[39;49m\u001b[43m_get_model_version_dir\u001b[49m\u001b[43m(\u001b[49m\u001b[43mname\u001b[49m\u001b[43m,\u001b[49m\u001b[43m \u001b[49m\u001b[43mversion\u001b[49m\u001b[43m)\u001b[49m\n\u001b[1;32m    681\u001b[0m     \u001b[38;5;28;01mif\u001b[39;00m \u001b[38;5;129;01mnot\u001b[39;00m exists(registered_model_version_dir):\n\u001b[1;32m    682\u001b[0m         \u001b[38;5;28;01mraise\u001b[39;00m MlflowException(\n\u001b[1;32m    683\u001b[0m             \u001b[38;5;124mf\u001b[39m\u001b[38;5;124m\"\u001b[39m\u001b[38;5;124mModel Version (name=\u001b[39m\u001b[38;5;132;01m{\u001b[39;00mname\u001b[38;5;132;01m}\u001b[39;00m\u001b[38;5;124m, version=\u001b[39m\u001b[38;5;132;01m{\u001b[39;00mversion\u001b[38;5;132;01m}\u001b[39;00m\u001b[38;5;124m) not found\u001b[39m\u001b[38;5;124m\"\u001b[39m,\n\u001b[1;32m    684\u001b[0m             RESOURCE_DOES_NOT_EXIST,\n\u001b[1;32m    685\u001b[0m         )\n",
      "File \u001b[0;32m~/.local/lib/python3.10/site-packages/mlflow/store/model_registry/file_store.py:492\u001b[0m, in \u001b[0;36mFileStore._get_model_version_dir\u001b[0;34m(self, name, version)\u001b[0m\n\u001b[1;32m    490\u001b[0m registered_model_path \u001b[38;5;241m=\u001b[39m \u001b[38;5;28mself\u001b[39m\u001b[38;5;241m.\u001b[39m_get_registered_model_path(name)\n\u001b[1;32m    491\u001b[0m \u001b[38;5;28;01mif\u001b[39;00m \u001b[38;5;129;01mnot\u001b[39;00m exists(registered_model_path):\n\u001b[0;32m--> 492\u001b[0m     \u001b[38;5;28;01mraise\u001b[39;00m MlflowException(\n\u001b[1;32m    493\u001b[0m         \u001b[38;5;124mf\u001b[39m\u001b[38;5;124m\"\u001b[39m\u001b[38;5;124mRegistered Model with name=\u001b[39m\u001b[38;5;132;01m{\u001b[39;00mname\u001b[38;5;132;01m}\u001b[39;00m\u001b[38;5;124m not found\u001b[39m\u001b[38;5;124m\"\u001b[39m,\n\u001b[1;32m    494\u001b[0m         RESOURCE_DOES_NOT_EXIST,\n\u001b[1;32m    495\u001b[0m     )\n\u001b[1;32m    496\u001b[0m \u001b[38;5;28;01mreturn\u001b[39;00m join(registered_model_path, \u001b[38;5;124mf\u001b[39m\u001b[38;5;124m\"\u001b[39m\u001b[38;5;124mversion-\u001b[39m\u001b[38;5;132;01m{\u001b[39;00mversion\u001b[38;5;132;01m}\u001b[39;00m\u001b[38;5;124m\"\u001b[39m)\n",
      "\u001b[0;31mMlflowException\u001b[0m: Registered Model with name=churn_model_vadimshakula_b2c not found"
     ]
    }
   ],
   "source": [
    "REGISTRY_MODEL_NAME = \"churn_model_vadimshakula_b2c\"  # или ..._b2c, если подтвердилось\n",
    "REGISTRY_MODEL_VERSION = \"1\"\n",
    "\n",
    "model_uri = f\"models:/{REGISTRY_MODEL_NAME}/{REGISTRY_MODEL_VERSION}\"\n",
    "model = mlflow.pyfunc.load_model(model_uri)        # работает для любого flavor\n",
    "# preds = model.predict(X_test)  # пример инференса"
   ]
  }
 ],
 "metadata": {
  "kernelspec": {
   "display_name": "Python 3",
   "language": "python",
   "name": "python3"
  },
  "language_info": {
   "codemirror_mode": {
    "name": "ipython",
    "version": 3
   },
   "file_extension": ".py",
   "mimetype": "text/x-python",
   "name": "python",
   "nbconvert_exporter": "python",
   "pygments_lexer": "ipython3",
   "version": "3.10.12"
  }
 },
 "nbformat": 4,
 "nbformat_minor": 5
}
