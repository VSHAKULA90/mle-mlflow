{
 "cells": [
  {
   "cell_type": "code",
   "execution_count": 39,
   "id": "1cdbd20f",
   "metadata": {},
   "outputs": [],
   "source": [
    "import os\n",
    "import optuna\n",
    "import mlflow\n",
    "import numpy as np\n",
    "from collections import defaultdict\n",
    "from catboost import CatBoostClassifier\n",
    "from optuna.integration.mlflow import MLflowCallback\n",
    "from mlflow.utils.mlflow_tags import MLFLOW_PARENT_RUN_ID\n",
    "from sklearn.model_selection import train_test_split, StratifiedKFold\n",
    "from sklearn.metrics import (\n",
    "    roc_auc_score,\n",
    "    f1_score,\n",
    "    precision_score,\n",
    "    recall_score,\n",
    "    confusion_matrix,\n",
    "    log_loss,\n",
    ")\n",
    "from optuna.integration.mlflow import MLflowCallback\n",
    "from statistics import median"
   ]
  },
  {
   "cell_type": "code",
   "execution_count": 31,
   "id": "9f083b7b",
   "metadata": {},
   "outputs": [],
   "source": [
    "os.environ[\"MLFLOW_S3_ENDPOINT_URL\"] = \"https://storage.yandexcloud.net\"\n",
    "os.environ[\"AWS_ACCESS_KEY_ID\"] = os.getenv(\"AWS_ACCESS_KEY_ID\")\n",
    "os.environ[\"AWS_SECRET_ACCESS_KEY\"] = os.getenv(\"AWS_SECRET_ACCESS_KEY\")\n",
    "\n",
    "TRACKING_SERVER_HOST = \"127.0.0.1\"\n",
    "TRACKING_SERVER_PORT = 5000\n",
    "\n",
    "mlflow.set_tracking_uri(f\"http://{TRACKING_SERVER_HOST}:{TRACKING_SERVER_PORT}\")\n",
    "mlflow.set_registry_uri(f\"http://{TRACKING_SERVER_HOST}:{TRACKING_SERVER_PORT}\")"
   ]
  },
  {
   "cell_type": "code",
   "execution_count": 32,
   "id": "6b46af7b",
   "metadata": {},
   "outputs": [],
   "source": [
    "EXPERIMENT_NAME = \"test_connection_experiment_vadim_shakula\" \n",
    "RUN_NAME = \"model_bayesian_search\"\n",
    "\n",
    "STUDY_DB_NAME = \"sqlite:///local.study.db\"\n",
    "STUDY_NAME = \"churn_model\""
   ]
  },
  {
   "cell_type": "code",
   "execution_count": 33,
   "id": "60507017",
   "metadata": {},
   "outputs": [],
   "source": [
    "TABLE_NAME = \"clean_users_churn\"\n",
    "connection = {\"sslmode\": \"require\", \"target_session_attrs\": \"read-write\"}\n",
    "postgres_credentials = {\n",
    "    \"host\": os.environ[\"DB_DESTINATION_HOST\"], \n",
    "    \"port\": os.environ[\"DB_DESTINATION_PORT\"],\n",
    "    \"dbname\": os.environ[\"DB_DESTINATION_NAME\"],\n",
    "    \"user\": os.environ[\"DB_DESTINATION_USER\"],\n",
    "    \"password\": os.environ[\"DB_DESTINATION_PASSWORD\"],\n",
    "}\n",
    "assert all([var_value != \"\" for var_value in list(postgres_credentials.values())])\n",
    "\n",
    "connection.update(postgres_credentials)"
   ]
  },
  {
   "cell_type": "code",
   "execution_count": 34,
   "id": "6fd9b9c0",
   "metadata": {},
   "outputs": [],
   "source": [
    "# эта конструкция создаёт контекстное управление для соединения с базой данных \n",
    "# оператор with гарантирует, что соединение будет корректно закрыто после выполнения всех операций \n",
    "# закрыто оно будет даже в случае ошибки, чтобы не допустить \"утечку памяти\"\n",
    "with psycopg.connect(**connection) as conn:\n",
    "\n",
    "# создаёт объект курсора для выполнения запросов к базе данных\n",
    "# с помощью метода execute() выполняется SQL-запрос для выборки данных из таблицы TABLE_NAME\n",
    "    with conn.cursor() as cur:\n",
    "        cur.execute(f\"SELECT * FROM {TABLE_NAME}\")\n",
    "                \n",
    "                # извлекаем все строки, полученные в результате выполнения запроса\n",
    "        data = cur.fetchall()\n",
    "\n",
    "                # получает список имён столбцов из объекта курсора\n",
    "        columns = [col[0] for col in cur.description]\n",
    "\n",
    "# создаёт объект DataFrame из полученных данных и имён столбцов. \n",
    "# это позволяет удобно работать с данными в Python, используя библиотеку Pandas.\n",
    "df = pd.DataFrame(data, columns=columns)"
   ]
  },
  {
   "cell_type": "code",
   "execution_count": 35,
   "id": "14debc7d",
   "metadata": {},
   "outputs": [],
   "source": [
    "features = [\"monthly_charges\", \"total_charges\", \"senior_citizen\"]\n",
    "target = \"target\"\n",
    "\n",
    "split_column = \"begin_date\"\n",
    "test_size = 0.2\n",
    "\n",
    "df = df.sort_values(by=[split_column])\n",
    "X_train, X_test, y_train, y_test = train_test_split(\n",
    "    df[features],\n",
    "    df[target],\n",
    "    test_size=test_size,\n",
    "    shuffle=False,\n",
    ")"
   ]
  },
  {
   "cell_type": "code",
   "execution_count": 44,
   "id": "3c8afa1a",
   "metadata": {},
   "outputs": [],
   "source": [
    "def objective(trial: optuna.Trial) -> float:\n",
    "    param = {  # ваш код здесь #\n",
    "        \"learning_rate\": trial.suggest_float(\"learning_rate\", 0.001, 0.1, log=True),\n",
    "        \"depth\": trial.suggest_int(\"depth\", 1, 12),\n",
    "        \"l2_leaf_reg\": trial.suggest_float(\"l2_leaf_reg\", 0.1, 5),\n",
    "        \"random_strength\": trial.suggest_float(\"random_strength\", 0.1, 5),\n",
    "        \"loss_function\": \"Logloss\",\n",
    "        \"task_type\": \"CPU\",\n",
    "        \"random_seed\": 0,\n",
    "        \"iterations\": 300,\n",
    "        \"verbose\": False,\n",
    "    }\n",
    "    model = CatBoostClassifier(**param)\n",
    "    \n",
    "    skf = StratifiedKFold(n_splits=2)\n",
    "    \n",
    "    metrics = defaultdict(list)\n",
    "    for i, (train_index, val_index) in enumerate(skf.split(X_train, y_train)):\n",
    "        # ваш код здесь #\n",
    "        train_x = X_train.iloc[train_index]\n",
    "        train_y = y_train.iloc[train_index]\n",
    "        val_x = X_train.iloc[val_index]\n",
    "        val_y = y_train.iloc[val_index]\n",
    "    \n",
    "        model.fit(train_x, train_y)\n",
    "        prediction = model.predict(val_x)\n",
    "        probas = model.predict_proba(val_x)[:, 1]\n",
    "\n",
    "        _, err1, _, err2 = confusion_matrix(val_y, prediction, normalize='all').ravel()\n",
    "        auc = roc_auc_score(val_y, probas)\n",
    "        precision = precision_score(val_y, prediction)\n",
    "        recall = recall_score(val_y, prediction)\n",
    "        f1 = f1_score(val_y, prediction)\n",
    "        logloss = log_loss(val_y, probas)\n",
    "        \n",
    "        metrics[\"err1\"].append(err1)\n",
    "        metrics[\"err2\"].append(err2)\n",
    "        metrics[\"auc\"].append(auc)\n",
    "        metrics[\"precision\"].append(precision)\n",
    "        metrics[\"recall\"].append(recall)\n",
    "        metrics[\"f1\"].append(f1)\n",
    "        metrics[\"logloss\"].append(logloss)\n",
    "        \n",
    "            # ваш код здесь #\n",
    "    err_1 = np.median(np.array(metrics['err1'])) \n",
    "    err_2 = np.median(np.array(metrics['err2']))\n",
    "    auc = np.median(np.array(metrics['auc']))\n",
    "    precision = np.median(np.array(metrics['precision']))\n",
    "    recall = np.median(np.array(metrics['recall']))\n",
    "    f1 = np.median(np.array(metrics['f1']))\n",
    "    logloss = np.median(np.array(metrics['logloss']))\n",
    "\t\t\n",
    "    return auc"
   ]
  },
  {
   "cell_type": "code",
   "execution_count": 45,
   "id": "cc9c14c1",
   "metadata": {},
   "outputs": [],
   "source": [
    "experiment = mlflow.get_experiment_by_name(EXPERIMENT_NAME)\n",
    "if not experiment:\n",
    "    experiment_id = mlflow.create_experiment(EXPERIMENT_NAME)\n",
    "else:\n",
    "    experiment_id = experiment.experiment_id"
   ]
  },
  {
   "cell_type": "code",
   "execution_count": 46,
   "id": "f9bb4b04",
   "metadata": {},
   "outputs": [
    {
     "name": "stderr",
     "output_type": "stream",
     "text": [
      "/tmp/ipykernel_14711/820868530.py:7: ExperimentalWarning: MLflowCallback is experimental (supported from v1.4.0). The interface can change in the future.\n",
      "  mlflc = MLflowCallback(\n",
      "[I 2025-09-07 20:36:01,078] Using an existing study with name 'churn_model' instead of creating a new one.\n"
     ]
    },
    {
     "name": "stderr",
     "output_type": "stream",
     "text": [
      "/home/mle-user/.local/lib/python3.10/site-packages/sklearn/metrics/_classification.py:1469: UndefinedMetricWarning: Precision is ill-defined and being set to 0.0 due to no predicted samples. Use `zero_division` parameter to control this behavior.\n",
      "  _warn_prf(average, modifier, msg_start, len(result))\n",
      "[I 2025-09-07 20:36:02,121] Trial 16 finished with value: 0.8123816272596209 and parameters: {'learning_rate': 0.031781626725825574, 'depth': 3, 'l2_leaf_reg': 1.0920148895713992, 'random_strength': 1.1994276508009563}. Best is trial 10 with value: 0.8216664878470447.\n",
      "/home/mle-user/.local/lib/python3.10/site-packages/sklearn/metrics/_classification.py:1469: UndefinedMetricWarning: Precision is ill-defined and being set to 0.0 due to no predicted samples. Use `zero_division` parameter to control this behavior.\n",
      "  _warn_prf(average, modifier, msg_start, len(result))\n",
      "[I 2025-09-07 20:36:03,339] Trial 17 finished with value: 0.813996517557029 and parameters: {'learning_rate': 0.025661769518171302, 'depth': 4, 'l2_leaf_reg': 1.0461285099606914, 'random_strength': 1.2760425106092097}. Best is trial 10 with value: 0.8216664878470447.\n",
      "/home/mle-user/.local/lib/python3.10/site-packages/sklearn/metrics/_classification.py:1469: UndefinedMetricWarning: Precision is ill-defined and being set to 0.0 due to no predicted samples. Use `zero_division` parameter to control this behavior.\n",
      "  _warn_prf(average, modifier, msg_start, len(result))\n",
      "[I 2025-09-07 20:36:04,263] Trial 18 finished with value: 0.7900886696725458 and parameters: {'learning_rate': 0.05619812237902952, 'depth': 1, 'l2_leaf_reg': 1.1787749452481888, 'random_strength': 1.2056690760102264}. Best is trial 10 with value: 0.8216664878470447.\n",
      "/home/mle-user/.local/lib/python3.10/site-packages/sklearn/metrics/_classification.py:1469: UndefinedMetricWarning: Precision is ill-defined and being set to 0.0 due to no predicted samples. Use `zero_division` parameter to control this behavior.\n",
      "  _warn_prf(average, modifier, msg_start, len(result))\n",
      "[I 2025-09-07 20:36:05,492] Trial 19 finished with value: 0.790315879463563 and parameters: {'learning_rate': 0.024644072411578868, 'depth': 6, 'l2_leaf_reg': 1.8551920733147165, 'random_strength': 0.8657461904172578}. Best is trial 10 with value: 0.8216664878470447.\n",
      "/home/mle-user/.local/lib/python3.10/site-packages/sklearn/metrics/_classification.py:1469: UndefinedMetricWarning: Precision is ill-defined and being set to 0.0 due to no predicted samples. Use `zero_division` parameter to control this behavior.\n",
      "  _warn_prf(average, modifier, msg_start, len(result))\n",
      "[I 2025-09-07 20:36:06,521] Trial 20 finished with value: 0.7948296974332965 and parameters: {'learning_rate': 0.05643993489646782, 'depth': 3, 'l2_leaf_reg': 0.7564459566809112, 'random_strength': 1.790697218937272}. Best is trial 10 with value: 0.8216664878470447.\n",
      "/home/mle-user/.local/lib/python3.10/site-packages/sklearn/metrics/_classification.py:1469: UndefinedMetricWarning: Precision is ill-defined and being set to 0.0 due to no predicted samples. Use `zero_division` parameter to control this behavior.\n",
      "  _warn_prf(average, modifier, msg_start, len(result))\n",
      "[I 2025-09-07 20:36:07,498] Trial 21 finished with value: 0.783005274345882 and parameters: {'learning_rate': 0.022669025133724385, 'depth': 2, 'l2_leaf_reg': 1.3566701593404809, 'random_strength': 0.14005711975244217}. Best is trial 10 with value: 0.8216664878470447.\n",
      "/home/mle-user/.local/lib/python3.10/site-packages/sklearn/metrics/_classification.py:1469: UndefinedMetricWarning: Precision is ill-defined and being set to 0.0 due to no predicted samples. Use `zero_division` parameter to control this behavior.\n",
      "  _warn_prf(average, modifier, msg_start, len(result))\n",
      "[I 2025-09-07 20:36:08,566] Trial 22 finished with value: 0.8099022005749631 and parameters: {'learning_rate': 0.02044896759015532, 'depth': 5, 'l2_leaf_reg': 0.6588099004114136, 'random_strength': 1.806824275245662}. Best is trial 10 with value: 0.8216664878470447.\n",
      "/home/mle-user/.local/lib/python3.10/site-packages/sklearn/metrics/_classification.py:1469: UndefinedMetricWarning: Precision is ill-defined and being set to 0.0 due to no predicted samples. Use `zero_division` parameter to control this behavior.\n",
      "  _warn_prf(average, modifier, msg_start, len(result))\n",
      "[I 2025-09-07 20:36:19,258] Trial 23 finished with value: 0.7072567692082059 and parameters: {'learning_rate': 0.006997253564946693, 'depth': 12, 'l2_leaf_reg': 0.46964016985432555, 'random_strength': 0.6119500205969766}. Best is trial 10 with value: 0.8216664878470447.\n",
      "/home/mle-user/.local/lib/python3.10/site-packages/sklearn/metrics/_classification.py:1469: UndefinedMetricWarning: Precision is ill-defined and being set to 0.0 due to no predicted samples. Use `zero_division` parameter to control this behavior.\n",
      "  _warn_prf(average, modifier, msg_start, len(result))\n",
      "[I 2025-09-07 20:36:21,299] Trial 24 finished with value: 0.7591666445159175 and parameters: {'learning_rate': 0.020399798677058295, 'depth': 7, 'l2_leaf_reg': 0.5139145035531539, 'random_strength': 0.1439719139294397}. Best is trial 10 with value: 0.8216664878470447.\n",
      "/home/mle-user/.local/lib/python3.10/site-packages/sklearn/metrics/_classification.py:1469: UndefinedMetricWarning: Precision is ill-defined and being set to 0.0 due to no predicted samples. Use `zero_division` parameter to control this behavior.\n",
      "  _warn_prf(average, modifier, msg_start, len(result))\n",
      "[I 2025-09-07 20:36:22,313] Trial 25 finished with value: 0.7954950416906506 and parameters: {'learning_rate': 0.04435524466432412, 'depth': 3, 'l2_leaf_reg': 0.17451790697634678, 'random_strength': 0.6676336990573968}. Best is trial 10 with value: 0.8216664878470447.\n"
     ]
    },
    {
     "name": "stdout",
     "output_type": "stream",
     "text": [
      "Number of finished trials: 26\n",
      "Best params: {'learning_rate': 0.03409399693879268, 'depth': 2, 'l2_leaf_reg': 0.20176729035797436, 'random_strength': 0.19822463155477843}\n"
     ]
    }
   ],
   "source": [
    "with mlflow.start_run(run_name=RUN_NAME, experiment_id=experiment_id) as run:\n",
    "    run_id = run.info.run_id\n",
    "\n",
    "    if mlflow.active_run():\n",
    "        mlflow.end_run()\n",
    "\n",
    "    mlflc = MLflowCallback(\n",
    "        tracking_uri=f\"http://{TRACKING_SERVER_HOST}:{TRACKING_SERVER_PORT}\",\n",
    "        metric_name='AUC',\n",
    "        create_experiment=False,\n",
    "        mlflow_kwargs={'experiment_id': experiment_id, 'tags': {MLFLOW_PARENT_RUN_ID: run_id}}\n",
    "    )\n",
    "\n",
    "    study = optuna.create_study(  # ваш код здесь #\n",
    "        study_name=STUDY_NAME,\n",
    "        storage=STUDY_DB_NAME,\n",
    "        sampler=optuna.samplers.TPESampler(),\n",
    "        direction=\"maximize\",\n",
    "        load_if_exists=True\n",
    "    )\n",
    "    study.optimize(objective, n_trials=10, callbacks=[mlflc])  # ваш код здесь #\n",
    "    best_params = study.best_params\n",
    "\n",
    "    print(f\"Number of finished trials: {len(study.trials)}\")\n",
    "    print(f\"Best params: {best_params}\")"
   ]
  },
  {
   "cell_type": "code",
   "execution_count": 47,
   "id": "4bebaf5f",
   "metadata": {},
   "outputs": [
    {
     "name": "stderr",
     "output_type": "stream",
     "text": [
      "Successfully registered model 'best_model_bayesian_search'.\n",
      "2025/09/07 20:40:07 INFO mlflow.tracking._model_registry.client: Waiting up to 300 seconds for model version to finish creation. Model name: best_model_bayesian_search, version 1\n",
      "Created version '1' of model 'best_model_bayesian_search'.\n"
     ]
    }
   ],
   "source": [
    "REGISTRY_MODEL_NAME = \"best_model_bayesian_search\"\n",
    "\n",
    "best_model = CatBoostClassifier(**best_params, verbose=False).fit(X_train, y_train)\n",
    "\n",
    "mlflow.set_experiment(EXPERIMENT_NAME)\n",
    "\n",
    "with mlflow.start_run(run_id=run_id) as run: \n",
    "    mlflow.log_params(best_params) \n",
    "     \n",
    "    mlflow.sklearn.log_model(\n",
    "        sk_model=best_model, \n",
    "        artifact_path=\"cv\", \n",
    "        registered_model_name=REGISTRY_MODEL_NAME \n",
    "    )"
   ]
  },
  {
   "cell_type": "code",
   "execution_count": 48,
   "id": "760ec67a",
   "metadata": {},
   "outputs": [
    {
     "name": "stdout",
     "output_type": "stream",
     "text": [
      "aeb2ec90707247b1b5d92a8b550d29c1\n"
     ]
    }
   ],
   "source": [
    "print(run_id)"
   ]
  }
 ],
 "metadata": {
  "kernelspec": {
   "display_name": "Python 3",
   "language": "python",
   "name": "python3"
  },
  "language_info": {
   "codemirror_mode": {
    "name": "ipython",
    "version": 3
   },
   "file_extension": ".py",
   "mimetype": "text/x-python",
   "name": "python",
   "nbconvert_exporter": "python",
   "pygments_lexer": "ipython3",
   "version": "3.10.12"
  }
 },
 "nbformat": 4,
 "nbformat_minor": 5
}
